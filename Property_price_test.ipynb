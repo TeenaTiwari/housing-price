{
  "nbformat": 4,
  "nbformat_minor": 0,
  "metadata": {
    "colab": {
      "name": "Property_price_test.ipynb",
      "provenance": [],
      "collapsed_sections": []
    },
    "kernelspec": {
      "name": "python3",
      "display_name": "Python 3"
    },
    "language_info": {
      "name": "python"
    }
  },
  "cells": [
    {
      "cell_type": "markdown",
      "source": [
        "**Starting , by importing libraries and reading dataset**"
      ],
      "metadata": {
        "id": "6I4dEIBi_FQ7"
      }
    },
    {
      "cell_type": "code",
      "execution_count": null,
      "metadata": {
        "id": "b3oLodlkyb0Z"
      },
      "outputs": [],
      "source": [
        "import numpy as np\n",
        "import pandas as pd \n",
        "import seaborn as sns\n",
        "import matplotlib.pyplot as plt\n",
        "import os\n",
        "from sklearn.preprocessing import LabelEncoder\n",
        "le=LabelEncoder()\n",
        " "
      ]
    },
    {
      "cell_type": "code",
      "source": [
        "from google.colab import files\n",
        "uploaded=files.upload()"
      ],
      "metadata": {
        "id": "3hxenRHAy7gw",
        "colab": {
          "resources": {
            "http://localhost:8080/nbextensions/google.colab/files.js": {
              "data": "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",
              "ok": true,
              "headers": [
                [
                  "content-type",
                  "application/javascript"
                ]
              ],
              "status": 200,
              "status_text": ""
            }
          },
          "base_uri": "https://localhost:8080/",
          "height": 73
        },
        "outputId": "82c6e6bb-f117-40e9-fd91-48a9e51d52c1"
      },
      "execution_count": null,
      "outputs": [
        {
          "output_type": "display_data",
          "data": {
            "text/plain": [
              "<IPython.core.display.HTML object>"
            ],
            "text/html": [
              "\n",
              "     <input type=\"file\" id=\"files-1dcd3c43-b998-4d68-ad94-6b5765efd555\" name=\"files[]\" multiple disabled\n",
              "        style=\"border:none\" />\n",
              "     <output id=\"result-1dcd3c43-b998-4d68-ad94-6b5765efd555\">\n",
              "      Upload widget is only available when the cell has been executed in the\n",
              "      current browser session. Please rerun this cell to enable.\n",
              "      </output>\n",
              "      <script src=\"/nbextensions/google.colab/files.js\"></script> "
            ]
          },
          "metadata": {}
        },
        {
          "output_type": "stream",
          "name": "stdout",
          "text": [
            "Saving Property_Price_Train.csv to Property_Price_Train (1).csv\n"
          ]
        }
      ]
    },
    {
      "cell_type": "code",
      "source": [
        "from google.colab import files\n",
        "uploaded=files.upload()\n"
      ],
      "metadata": {
        "colab": {
          "resources": {
            "http://localhost:8080/nbextensions/google.colab/files.js": {
              "data": "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",
              "ok": true,
              "headers": [
                [
                  "content-type",
                  "application/javascript"
                ]
              ],
              "status": 200,
              "status_text": ""
            }
          },
          "base_uri": "https://localhost:8080/",
          "height": 73
        },
        "id": "OCgA9s5caccQ",
        "outputId": "0fa517b0-12cd-4ce7-bb0f-b6be208335e4"
      },
      "execution_count": null,
      "outputs": [
        {
          "output_type": "display_data",
          "data": {
            "text/plain": [
              "<IPython.core.display.HTML object>"
            ],
            "text/html": [
              "\n",
              "     <input type=\"file\" id=\"files-0a5785ba-9776-407f-a899-59f00c858fa3\" name=\"files[]\" multiple disabled\n",
              "        style=\"border:none\" />\n",
              "     <output id=\"result-0a5785ba-9776-407f-a899-59f00c858fa3\">\n",
              "      Upload widget is only available when the cell has been executed in the\n",
              "      current browser session. Please rerun this cell to enable.\n",
              "      </output>\n",
              "      <script src=\"/nbextensions/google.colab/files.js\"></script> "
            ]
          },
          "metadata": {}
        },
        {
          "output_type": "stream",
          "name": "stdout",
          "text": [
            "Saving Property_Price_Test.csv to Property_Price_Test (1).csv\n"
          ]
        }
      ]
    },
    {
      "cell_type": "code",
      "source": [
        "import io\n",
        "ppt=pd.read_csv(io.BytesIO(uploaded['Property_Price_Train.csv']))"
      ],
      "metadata": {
        "id": "N1keJ6ZaYExo"
      },
      "execution_count": null,
      "outputs": []
    },
    {
      "cell_type": "code",
      "source": [
        "import io\n",
        "pt=pd.read_csv(io.BytesIO(uploaded['Property_Price_Test.csv']))"
      ],
      "metadata": {
        "id": "Q-i7MiqVacel"
      },
      "execution_count": null,
      "outputs": []
    },
    {
      "cell_type": "markdown",
      "source": [
        "#**1  Understanding the Train Data ** "
      ],
      "metadata": {
        "id": "WX7J1JuLZ_X0"
      }
    },
    {
      "cell_type": "code",
      "source": [
        "#pd.read_csv('Property_Price_Test.csv')\n",
        "#pd.read_csv('Property_Price_Train.csv')"
      ],
      "metadata": {
        "id": "XLCTsk4twhuR"
      },
      "execution_count": null,
      "outputs": []
    },
    {
      "cell_type": "code",
      "source": [
        "#print(ppt.head())\n",
        "#print(pt.head())\n",
        "#ppt.describe()   Knowing more about the dataset\n",
        "#ppt.info()\n",
        "#ppt.shape,pt.shape"
      ],
      "metadata": {
        "id": "pzdNDnb5Yh4u"
      },
      "execution_count": null,
      "outputs": []
    },
    {
      "cell_type": "markdown",
      "source": [
        "##**Filling the Null Value**"
      ],
      "metadata": {
        "id": "nKJtudqowj7a"
      }
    },
    {
      "cell_type": "code",
      "source": [
        "#Removing Duplicates\n",
        "#ppt1 = ppt.drop_duplicates()\n",
        "\n",
        "#Replacing Missing Values \n",
        "ppt.Zoning_Class=ppt.Zoning_Class.fillna(\"RHD\")\n",
        "ppt.Utility_Type=ppt.Utility_Type.fillna(\"AllPub\")\n",
        "ppt.Exterior1st=ppt.Exterior1st.fillna(\"CB\")\n",
        "ppt.Exterior2nd=ppt.Exterior2nd.fillna(\"Stone\")\n",
        "ppt.Brick_Veneer_Type=ppt.Brick_Veneer_Type.fillna(\"BrkCmn\")\n",
        "ppt.BsmtFinSF1=ppt.BsmtFinSF1.fillna(ppt.BsmtFinSF1.mean())\n",
        "ppt.Lot_Extent=ppt.Lot_Extent.fillna(ppt.Lot_Extent.mean())\n",
        "ppt.Garage_Built_Year=ppt.Garage_Built_Year.fillna(ppt.Garage_Built_Year.mean())\n",
        "ppt.Fireplace_Quality=ppt.Fireplace_Quality.fillna(\"Ex\")\n",
        "ppt.Garage_Finish_Year=ppt.Garage_Finish_Year.fillna(\"Fin\")\n",
        "ppt.Garage=ppt.Garage.fillna(\"CarPort\")\n",
        "ppt.Garage_Condition=ppt.Garage_Condition.fillna(\"Ex\")\n",
        "ppt.Basement_Height=ppt.Basement_Height.fillna(\"Fa\")\n",
        "ppt.Basement_Condition=ppt.Basement_Condition.fillna(\"Po\")\n",
        "ppt.Exposure_Level=ppt.Exposure_Level.fillna(\"Mn\")\n",
        "ppt.BsmtFinType1=ppt.BsmtFinType1.fillna(\"LwQ\")\n",
        "ppt.BsmtFinType2=ppt.BsmtFinType2.fillna(\"GLQ\")\n",
        "ppt.Garage_Quality=ppt.Garage_Quality.fillna(\"Po\")\n",
        "ppt.Electrical_System=ppt.Electrical_System.fillna(\"Mix\")\n",
        "ppt.Fireplace_Quality=ppt.Fireplace_Quality.fillna(\"Po\")\n",
        "ppt.Brick_Veneer_Area=ppt.Brick_Veneer_Area.fillna(ppt.Brick_Veneer_Area.mean())\n",
        "\n",
        "#Removing Unnecessary Columns\n",
        "ppt.drop(['Id','Pool_Quality','Fence_Quality','Lane_Type','Miscellaneous_Feature'],axis=1, inplace=True)\n",
        "\n",
        "#replacing zero values in price column with the mean value\n",
        "#newdf['price'].replace({0 : newdf['price'].mean()}, inplace = True)"
      ],
      "metadata": {
        "id": "0sJZUfab02gu"
      },
      "execution_count": null,
      "outputs": []
    },
    {
      "cell_type": "code",
      "source": [
        "#ppt.info()"
      ],
      "metadata": {
        "id": "QrocWzkpXTeV"
      },
      "execution_count": null,
      "outputs": []
    },
    {
      "cell_type": "markdown",
      "source": [
        "#**DTYPE CONVERSION OF TRAIN DATA**"
      ],
      "metadata": {
        "id": "UZZ56kd196kW"
      }
    },
    {
      "cell_type": "code",
      "source": [
        "ppt.Zoning_Class=le.fit_transform(ppt.Zoning_Class)\n",
        "ppt.Lot_Extent=le.fit_transform(ppt.Lot_Extent)\n",
        "ppt.Utility_Type=le.fit_transform(ppt.Utility_Type)\n",
        "ppt.Exterior1st=le.fit_transform(ppt.Exterior1st)\n",
        "ppt.Exterior2nd=le.fit_transform(ppt.Exterior2nd)\n",
        "ppt.Brick_Veneer_Type=le.fit_transform(ppt.Brick_Veneer_Type)\n",
        "ppt.Brick_Veneer_Area=le.fit_transform(ppt.Brick_Veneer_Area)\n",
        "ppt.Underground_Full_Bathroom=le.fit_transform(ppt.Underground_Full_Bathroom)\n",
        "ppt.Underground_Half_Bathroom=le.fit_transform(ppt.Underground_Half_Bathroom)\n",
        "ppt.Kitchen_Quality=le.fit_transform(ppt.Kitchen_Quality)\n",
        "ppt.Functional_Rate=le.fit_transform(ppt.Functional_Rate)\n",
        "ppt.Fireplace_Quality=le.fit_transform(ppt.Fireplace_Quality)\n",
        "ppt.Garage=le.fit_transform(ppt.Garage)\n",
        "ppt.Garage_Built_Year=le.fit_transform(ppt.Garage_Built_Year)\n",
        "ppt.Heating_Quality=le.fit_transform(ppt.Heating_Quality)\n",
        "ppt.Heating_Type=le.fit_transform(ppt.Heating_Type)\n",
        "ppt.Foundation_Type=le.fit_transform(ppt.Foundation_Type)\n",
        "ppt.Exterior_Condition=le.fit_transform(ppt.Exterior_Condition)\n",
        "ppt.Exterior_Material=le.fit_transform(ppt.Exterior_Material)\n",
        "ppt.Roof_Quality=le.fit_transform(ppt.Roof_Quality)\n",
        "ppt.Roof_Design=le.fit_transform(ppt.Roof_Design)\n",
        "ppt.House_Design=le.fit_transform(ppt.House_Design)\n",
        "ppt.House_Type=le.fit_transform(ppt.House_Type)\n",
        "ppt.Condition2=le.fit_transform(ppt.Condition2)\n",
        "ppt.Condition1=le.fit_transform(ppt.Condition1)\n",
        "ppt.Neighborhood=le.fit_transform(ppt.Neighborhood)\n",
        "ppt.Property_Slope=le.fit_transform(ppt.Property_Slope)\n",
        "ppt.Lot_Configuration=le.fit_transform(ppt.Lot_Configuration)\n",
        "ppt.Property_Shape=le.fit_transform(ppt.Property_Shape)\n",
        "ppt.Road_Type=le.fit_transform(ppt.Road_Type)\n",
        "ppt.Air_Conditioning=le.fit_transform(ppt.Air_Conditioning)\n",
        "ppt.Land_Outline=le.fit_transform(ppt.Land_Outline)\n",
        "ppt.Brick_Veneer_Area=le.fit_transform(ppt.Brick_Veneer_Area)\n",
        "ppt.Basement_Height=le.fit_transform(ppt.Basement_Height)\n",
        "ppt.Basement_Condition=le.fit_transform(ppt.Basement_Condition)\n",
        "ppt.Exposure_Level=le.fit_transform(ppt.Exposure_Level)\n",
        "ppt.BsmtFinType1=le.fit_transform(ppt.BsmtFinType1)\n",
        "ppt.BsmtFinType2=le.fit_transform(ppt.BsmtFinType2)\n",
        "ppt.Garage_Finish_Year=le.fit_transform(ppt.Garage_Finish_Year)\n",
        "ppt.Garage_Quality=le.fit_transform(ppt.Garage_Quality)\n",
        "ppt.Land_Condition=le.fit_transform(ppt.Garage_Condition)\n",
        "ppt.Pavedd_Drive=le.fit_transform(ppt.Pavedd_Drive)\n",
        "ppt.Garage_Condition=le.fit_transform(ppt.Garage_Condition)\n",
        "ppt.Electrical_System=le.fit_transform(ppt.Electrical_System)\n",
        "ppt.Sale_Condition=le.fit_transform(ppt.Sale_Condition)\n",
        "ppt.Sale_Type=le.fit_transform(ppt.Sale_Type)\n"
      ],
      "metadata": {
        "id": "Y8jzFV4p8rkW",
        "colab": {
          "base_uri": "https://localhost:8080/"
        },
        "outputId": "8fc17145-07ee-4cce-d217-e3afdf2ce5ce"
      },
      "execution_count": null,
      "outputs": [
        {
          "output_type": "stream",
          "name": "stderr",
          "text": [
            "/usr/local/lib/python3.7/dist-packages/ipykernel_launcher.py:41: UserWarning: Pandas doesn't allow columns to be created via a new attribute name - see https://pandas.pydata.org/pandas-docs/stable/indexing.html#attribute-access\n"
          ]
        }
      ]
    },
    {
      "cell_type": "code",
      "source": [
        "#ppt.info()"
      ],
      "metadata": {
        "id": "jbYFmgdd-46O"
      },
      "execution_count": null,
      "outputs": []
    },
    {
      "cell_type": "code",
      "source": [
        "ppt.shape"
      ],
      "metadata": {
        "colab": {
          "base_uri": "https://localhost:8080/"
        },
        "id": "Y4w5-CqiDtVt",
        "outputId": "5ba1b50c-41fe-45a2-9b40-4dfc0e0819b7"
      },
      "execution_count": null,
      "outputs": [
        {
          "output_type": "execute_result",
          "data": {
            "text/plain": [
              "(1459, 76)"
            ]
          },
          "metadata": {},
          "execution_count": 32
        }
      ]
    },
    {
      "cell_type": "markdown",
      "source": [
        "**## Cleaning Test Data**"
      ],
      "metadata": {
        "id": "G0vIComqa8kt"
      }
    },
    {
      "cell_type": "code",
      "source": [
        "pt.describe()       #Knowing more about the dataset"
      ],
      "metadata": {
        "colab": {
          "base_uri": "https://localhost:8080/",
          "height": 394
        },
        "id": "9urvVBRLbGVV",
        "outputId": "e2b68a22-4be5-41c3-a730-1a349786b7bb"
      },
      "execution_count": null,
      "outputs": [
        {
          "output_type": "execute_result",
          "data": {
            "text/plain": [
              "                Id  Building_Class   Lot_Extent      Lot_Size  \\\n",
              "count  1459.000000     1459.000000  1232.000000   1459.000000   \n",
              "mean   2190.000000       57.378341    68.580357   9872.044418   \n",
              "std     421.321334       42.746880    22.376841   4960.234751   \n",
              "min    1461.000000       20.000000    21.000000  -4265.104479   \n",
              "25%    1825.500000       20.000000    58.000000   6351.984222   \n",
              "50%    2190.000000       50.000000    67.000000   9784.907361   \n",
              "75%    2554.500000       70.000000    80.000000  13208.971525   \n",
              "max    2919.000000      190.000000   200.000000  26126.190300   \n",
              "\n",
              "       Overall_Material  House_Condition  Construction_Year  Remodel_Year  \\\n",
              "count       1459.000000      1459.000000        1459.000000   1459.000000   \n",
              "mean           6.078821         5.553804        1971.357779   1983.662783   \n",
              "std            1.436812         1.113740          30.390071     21.130467   \n",
              "min            1.000000         1.000000        1879.000000   1950.000000   \n",
              "25%            5.000000         5.000000        1953.000000   1963.000000   \n",
              "50%            6.000000         5.000000        1973.000000   1992.000000   \n",
              "75%            7.000000         6.000000        2001.000000   2004.000000   \n",
              "max           10.000000         9.000000        2010.000000   2010.000000   \n",
              "\n",
              "       Brick_Veneer_Area   BsmtFinSF1  ...  Garage_Area  W_Deck_Area  \\\n",
              "count        1444.000000  1458.000000  ...  1458.000000  1459.000000   \n",
              "mean          100.709141   439.203704  ...   472.768861    93.174777   \n",
              "std           177.625900   455.268042  ...   217.048611   127.744882   \n",
              "min             0.000000     0.000000  ...     0.000000     0.000000   \n",
              "25%             0.000000     0.000000  ...   318.000000     0.000000   \n",
              "50%             0.000000   350.500000  ...   480.000000     0.000000   \n",
              "75%           164.000000   753.500000  ...   576.000000   168.000000   \n",
              "max          1290.000000  4010.000000  ...  1488.000000  1424.000000   \n",
              "\n",
              "       Open_Lobby_Area  Enclosed_Lobby_Area  Three_Season_Lobby_Area  \\\n",
              "count      1459.000000          1459.000000              1459.000000   \n",
              "mean         48.313914            24.243317                 1.794380   \n",
              "std          68.883364            67.227765                20.207842   \n",
              "min           0.000000             0.000000                 0.000000   \n",
              "25%           0.000000             0.000000                 0.000000   \n",
              "50%          28.000000             0.000000                 0.000000   \n",
              "75%          72.000000             0.000000                 0.000000   \n",
              "max         742.000000          1012.000000               360.000000   \n",
              "\n",
              "       Screen_Lobby_Area    Pool_Area  Miscellaneous_Value   Month_Sold  \\\n",
              "count        1459.000000  1459.000000          1459.000000  1459.000000   \n",
              "mean           17.064428     1.744345            58.167923     6.104181   \n",
              "std            56.609763    30.491646           630.806978     2.722432   \n",
              "min             0.000000     0.000000             0.000000     1.000000   \n",
              "25%             0.000000     0.000000             0.000000     4.000000   \n",
              "50%             0.000000     0.000000             0.000000     6.000000   \n",
              "75%             0.000000     0.000000             0.000000     8.000000   \n",
              "max           576.000000   800.000000         17000.000000    12.000000   \n",
              "\n",
              "         Year_Sold  \n",
              "count  1459.000000  \n",
              "mean   2007.769705  \n",
              "std       1.301740  \n",
              "min    2006.000000  \n",
              "25%    2007.000000  \n",
              "50%    2008.000000  \n",
              "75%    2009.000000  \n",
              "max    2010.000000  \n",
              "\n",
              "[8 rows x 37 columns]"
            ],
            "text/html": [
              "\n",
              "  <div id=\"df-1f97785d-1aa0-4ee2-9a46-389329dca58c\">\n",
              "    <div class=\"colab-df-container\">\n",
              "      <div>\n",
              "<style scoped>\n",
              "    .dataframe tbody tr th:only-of-type {\n",
              "        vertical-align: middle;\n",
              "    }\n",
              "\n",
              "    .dataframe tbody tr th {\n",
              "        vertical-align: top;\n",
              "    }\n",
              "\n",
              "    .dataframe thead th {\n",
              "        text-align: right;\n",
              "    }\n",
              "</style>\n",
              "<table border=\"1\" class=\"dataframe\">\n",
              "  <thead>\n",
              "    <tr style=\"text-align: right;\">\n",
              "      <th></th>\n",
              "      <th>Id</th>\n",
              "      <th>Building_Class</th>\n",
              "      <th>Lot_Extent</th>\n",
              "      <th>Lot_Size</th>\n",
              "      <th>Overall_Material</th>\n",
              "      <th>House_Condition</th>\n",
              "      <th>Construction_Year</th>\n",
              "      <th>Remodel_Year</th>\n",
              "      <th>Brick_Veneer_Area</th>\n",
              "      <th>BsmtFinSF1</th>\n",
              "      <th>...</th>\n",
              "      <th>Garage_Area</th>\n",
              "      <th>W_Deck_Area</th>\n",
              "      <th>Open_Lobby_Area</th>\n",
              "      <th>Enclosed_Lobby_Area</th>\n",
              "      <th>Three_Season_Lobby_Area</th>\n",
              "      <th>Screen_Lobby_Area</th>\n",
              "      <th>Pool_Area</th>\n",
              "      <th>Miscellaneous_Value</th>\n",
              "      <th>Month_Sold</th>\n",
              "      <th>Year_Sold</th>\n",
              "    </tr>\n",
              "  </thead>\n",
              "  <tbody>\n",
              "    <tr>\n",
              "      <th>count</th>\n",
              "      <td>1459.000000</td>\n",
              "      <td>1459.000000</td>\n",
              "      <td>1232.000000</td>\n",
              "      <td>1459.000000</td>\n",
              "      <td>1459.000000</td>\n",
              "      <td>1459.000000</td>\n",
              "      <td>1459.000000</td>\n",
              "      <td>1459.000000</td>\n",
              "      <td>1444.000000</td>\n",
              "      <td>1458.000000</td>\n",
              "      <td>...</td>\n",
              "      <td>1458.000000</td>\n",
              "      <td>1459.000000</td>\n",
              "      <td>1459.000000</td>\n",
              "      <td>1459.000000</td>\n",
              "      <td>1459.000000</td>\n",
              "      <td>1459.000000</td>\n",
              "      <td>1459.000000</td>\n",
              "      <td>1459.000000</td>\n",
              "      <td>1459.000000</td>\n",
              "      <td>1459.000000</td>\n",
              "    </tr>\n",
              "    <tr>\n",
              "      <th>mean</th>\n",
              "      <td>2190.000000</td>\n",
              "      <td>57.378341</td>\n",
              "      <td>68.580357</td>\n",
              "      <td>9872.044418</td>\n",
              "      <td>6.078821</td>\n",
              "      <td>5.553804</td>\n",
              "      <td>1971.357779</td>\n",
              "      <td>1983.662783</td>\n",
              "      <td>100.709141</td>\n",
              "      <td>439.203704</td>\n",
              "      <td>...</td>\n",
              "      <td>472.768861</td>\n",
              "      <td>93.174777</td>\n",
              "      <td>48.313914</td>\n",
              "      <td>24.243317</td>\n",
              "      <td>1.794380</td>\n",
              "      <td>17.064428</td>\n",
              "      <td>1.744345</td>\n",
              "      <td>58.167923</td>\n",
              "      <td>6.104181</td>\n",
              "      <td>2007.769705</td>\n",
              "    </tr>\n",
              "    <tr>\n",
              "      <th>std</th>\n",
              "      <td>421.321334</td>\n",
              "      <td>42.746880</td>\n",
              "      <td>22.376841</td>\n",
              "      <td>4960.234751</td>\n",
              "      <td>1.436812</td>\n",
              "      <td>1.113740</td>\n",
              "      <td>30.390071</td>\n",
              "      <td>21.130467</td>\n",
              "      <td>177.625900</td>\n",
              "      <td>455.268042</td>\n",
              "      <td>...</td>\n",
              "      <td>217.048611</td>\n",
              "      <td>127.744882</td>\n",
              "      <td>68.883364</td>\n",
              "      <td>67.227765</td>\n",
              "      <td>20.207842</td>\n",
              "      <td>56.609763</td>\n",
              "      <td>30.491646</td>\n",
              "      <td>630.806978</td>\n",
              "      <td>2.722432</td>\n",
              "      <td>1.301740</td>\n",
              "    </tr>\n",
              "    <tr>\n",
              "      <th>min</th>\n",
              "      <td>1461.000000</td>\n",
              "      <td>20.000000</td>\n",
              "      <td>21.000000</td>\n",
              "      <td>-4265.104479</td>\n",
              "      <td>1.000000</td>\n",
              "      <td>1.000000</td>\n",
              "      <td>1879.000000</td>\n",
              "      <td>1950.000000</td>\n",
              "      <td>0.000000</td>\n",
              "      <td>0.000000</td>\n",
              "      <td>...</td>\n",
              "      <td>0.000000</td>\n",
              "      <td>0.000000</td>\n",
              "      <td>0.000000</td>\n",
              "      <td>0.000000</td>\n",
              "      <td>0.000000</td>\n",
              "      <td>0.000000</td>\n",
              "      <td>0.000000</td>\n",
              "      <td>0.000000</td>\n",
              "      <td>1.000000</td>\n",
              "      <td>2006.000000</td>\n",
              "    </tr>\n",
              "    <tr>\n",
              "      <th>25%</th>\n",
              "      <td>1825.500000</td>\n",
              "      <td>20.000000</td>\n",
              "      <td>58.000000</td>\n",
              "      <td>6351.984222</td>\n",
              "      <td>5.000000</td>\n",
              "      <td>5.000000</td>\n",
              "      <td>1953.000000</td>\n",
              "      <td>1963.000000</td>\n",
              "      <td>0.000000</td>\n",
              "      <td>0.000000</td>\n",
              "      <td>...</td>\n",
              "      <td>318.000000</td>\n",
              "      <td>0.000000</td>\n",
              "      <td>0.000000</td>\n",
              "      <td>0.000000</td>\n",
              "      <td>0.000000</td>\n",
              "      <td>0.000000</td>\n",
              "      <td>0.000000</td>\n",
              "      <td>0.000000</td>\n",
              "      <td>4.000000</td>\n",
              "      <td>2007.000000</td>\n",
              "    </tr>\n",
              "    <tr>\n",
              "      <th>50%</th>\n",
              "      <td>2190.000000</td>\n",
              "      <td>50.000000</td>\n",
              "      <td>67.000000</td>\n",
              "      <td>9784.907361</td>\n",
              "      <td>6.000000</td>\n",
              "      <td>5.000000</td>\n",
              "      <td>1973.000000</td>\n",
              "      <td>1992.000000</td>\n",
              "      <td>0.000000</td>\n",
              "      <td>350.500000</td>\n",
              "      <td>...</td>\n",
              "      <td>480.000000</td>\n",
              "      <td>0.000000</td>\n",
              "      <td>28.000000</td>\n",
              "      <td>0.000000</td>\n",
              "      <td>0.000000</td>\n",
              "      <td>0.000000</td>\n",
              "      <td>0.000000</td>\n",
              "      <td>0.000000</td>\n",
              "      <td>6.000000</td>\n",
              "      <td>2008.000000</td>\n",
              "    </tr>\n",
              "    <tr>\n",
              "      <th>75%</th>\n",
              "      <td>2554.500000</td>\n",
              "      <td>70.000000</td>\n",
              "      <td>80.000000</td>\n",
              "      <td>13208.971525</td>\n",
              "      <td>7.000000</td>\n",
              "      <td>6.000000</td>\n",
              "      <td>2001.000000</td>\n",
              "      <td>2004.000000</td>\n",
              "      <td>164.000000</td>\n",
              "      <td>753.500000</td>\n",
              "      <td>...</td>\n",
              "      <td>576.000000</td>\n",
              "      <td>168.000000</td>\n",
              "      <td>72.000000</td>\n",
              "      <td>0.000000</td>\n",
              "      <td>0.000000</td>\n",
              "      <td>0.000000</td>\n",
              "      <td>0.000000</td>\n",
              "      <td>0.000000</td>\n",
              "      <td>8.000000</td>\n",
              "      <td>2009.000000</td>\n",
              "    </tr>\n",
              "    <tr>\n",
              "      <th>max</th>\n",
              "      <td>2919.000000</td>\n",
              "      <td>190.000000</td>\n",
              "      <td>200.000000</td>\n",
              "      <td>26126.190300</td>\n",
              "      <td>10.000000</td>\n",
              "      <td>9.000000</td>\n",
              "      <td>2010.000000</td>\n",
              "      <td>2010.000000</td>\n",
              "      <td>1290.000000</td>\n",
              "      <td>4010.000000</td>\n",
              "      <td>...</td>\n",
              "      <td>1488.000000</td>\n",
              "      <td>1424.000000</td>\n",
              "      <td>742.000000</td>\n",
              "      <td>1012.000000</td>\n",
              "      <td>360.000000</td>\n",
              "      <td>576.000000</td>\n",
              "      <td>800.000000</td>\n",
              "      <td>17000.000000</td>\n",
              "      <td>12.000000</td>\n",
              "      <td>2010.000000</td>\n",
              "    </tr>\n",
              "  </tbody>\n",
              "</table>\n",
              "<p>8 rows × 37 columns</p>\n",
              "</div>\n",
              "      <button class=\"colab-df-convert\" onclick=\"convertToInteractive('df-1f97785d-1aa0-4ee2-9a46-389329dca58c')\"\n",
              "              title=\"Convert this dataframe to an interactive table.\"\n",
              "              style=\"display:none;\">\n",
              "        \n",
              "  <svg xmlns=\"http://www.w3.org/2000/svg\" height=\"24px\"viewBox=\"0 0 24 24\"\n",
              "       width=\"24px\">\n",
              "    <path d=\"M0 0h24v24H0V0z\" fill=\"none\"/>\n",
              "    <path d=\"M18.56 5.44l.94 2.06.94-2.06 2.06-.94-2.06-.94-.94-2.06-.94 2.06-2.06.94zm-11 1L8.5 8.5l.94-2.06 2.06-.94-2.06-.94L8.5 2.5l-.94 2.06-2.06.94zm10 10l.94 2.06.94-2.06 2.06-.94-2.06-.94-.94-2.06-.94 2.06-2.06.94z\"/><path d=\"M17.41 7.96l-1.37-1.37c-.4-.4-.92-.59-1.43-.59-.52 0-1.04.2-1.43.59L10.3 9.45l-7.72 7.72c-.78.78-.78 2.05 0 2.83L4 21.41c.39.39.9.59 1.41.59.51 0 1.02-.2 1.41-.59l7.78-7.78 2.81-2.81c.8-.78.8-2.07 0-2.86zM5.41 20L4 18.59l7.72-7.72 1.47 1.35L5.41 20z\"/>\n",
              "  </svg>\n",
              "      </button>\n",
              "      \n",
              "  <style>\n",
              "    .colab-df-container {\n",
              "      display:flex;\n",
              "      flex-wrap:wrap;\n",
              "      gap: 12px;\n",
              "    }\n",
              "\n",
              "    .colab-df-convert {\n",
              "      background-color: #E8F0FE;\n",
              "      border: none;\n",
              "      border-radius: 50%;\n",
              "      cursor: pointer;\n",
              "      display: none;\n",
              "      fill: #1967D2;\n",
              "      height: 32px;\n",
              "      padding: 0 0 0 0;\n",
              "      width: 32px;\n",
              "    }\n",
              "\n",
              "    .colab-df-convert:hover {\n",
              "      background-color: #E2EBFA;\n",
              "      box-shadow: 0px 1px 2px rgba(60, 64, 67, 0.3), 0px 1px 3px 1px rgba(60, 64, 67, 0.15);\n",
              "      fill: #174EA6;\n",
              "    }\n",
              "\n",
              "    [theme=dark] .colab-df-convert {\n",
              "      background-color: #3B4455;\n",
              "      fill: #D2E3FC;\n",
              "    }\n",
              "\n",
              "    [theme=dark] .colab-df-convert:hover {\n",
              "      background-color: #434B5C;\n",
              "      box-shadow: 0px 1px 3px 1px rgba(0, 0, 0, 0.15);\n",
              "      filter: drop-shadow(0px 1px 2px rgba(0, 0, 0, 0.3));\n",
              "      fill: #FFFFFF;\n",
              "    }\n",
              "  </style>\n",
              "\n",
              "      <script>\n",
              "        const buttonEl =\n",
              "          document.querySelector('#df-1f97785d-1aa0-4ee2-9a46-389329dca58c button.colab-df-convert');\n",
              "        buttonEl.style.display =\n",
              "          google.colab.kernel.accessAllowed ? 'block' : 'none';\n",
              "\n",
              "        async function convertToInteractive(key) {\n",
              "          const element = document.querySelector('#df-1f97785d-1aa0-4ee2-9a46-389329dca58c');\n",
              "          const dataTable =\n",
              "            await google.colab.kernel.invokeFunction('convertToInteractive',\n",
              "                                                     [key], {});\n",
              "          if (!dataTable) return;\n",
              "\n",
              "          const docLinkHtml = 'Like what you see? Visit the ' +\n",
              "            '<a target=\"_blank\" href=https://colab.research.google.com/notebooks/data_table.ipynb>data table notebook</a>'\n",
              "            + ' to learn more about interactive tables.';\n",
              "          element.innerHTML = '';\n",
              "          dataTable['output_type'] = 'display_data';\n",
              "          await google.colab.output.renderOutput(dataTable, element);\n",
              "          const docLink = document.createElement('div');\n",
              "          docLink.innerHTML = docLinkHtml;\n",
              "          element.appendChild(docLink);\n",
              "        }\n",
              "      </script>\n",
              "    </div>\n",
              "  </div>\n",
              "  "
            ]
          },
          "metadata": {},
          "execution_count": 8
        }
      ]
    },
    {
      "cell_type": "code",
      "source": [
        "#pt.info()"
      ],
      "metadata": {
        "id": "XtKj4WwabGXM"
      },
      "execution_count": null,
      "outputs": []
    },
    {
      "cell_type": "markdown",
      "source": [
        "**Filling the Null Value of Test Data**"
      ],
      "metadata": {
        "id": "ZV8DwFa-AzGu"
      }
    },
    {
      "cell_type": "code",
      "source": [
        "#removing duplicates\n",
        "#ppt1 = pt.drop_duplicates()\n",
        "\n",
        "#replacing missing values \n",
        "pt.Lot_Extent=pt.Lot_Extent.fillna(pt.Lot_Extent.mean())\n",
        "pt.Garage_Built_Year=pt.Garage_Built_Year.fillna(pt.Garage_Built_Year.mean())\n",
        "pt.Zoning_Class=pt.Zoning_Class.fillna(\"RHD\")\n",
        "pt.Utility_Type=pt.Utility_Type.fillna(\"AllPub\")\n",
        "pt.Exterior1st=pt.Exterior1st.fillna(\"CB\")\n",
        "pt.Exterior2nd=pt.Exterior2nd.fillna(\"Stone\")\n",
        "pt.Garage_Finish_Year=pt.Garage_Finish_Year.fillna(\"Fin\")\n",
        "pt.Garage=pt.Garage.fillna(\"CarPort\")\n",
        "pt.Garage_Condition=pt.Garage_Condition.fillna(\"Ex\")\n",
        "pt.Fireplace_Quality=pt.Fireplace_Quality.fillna(\"Po\")\n",
        "pt.Garage_Quality=pt.Garage_Quality.fillna(\"Ex\")\n",
        "pt.BsmtFinType2=pt.BsmtFinType2.fillna(\"GLQ\")\n",
        "pt.BsmtFinType1=pt.BsmtFinType1.fillna(\"LwQ\")\n",
        "pt.Exposure_Level=pt.Exposure_Level.fillna(\"Mn\")\n",
        "pt.Basement_Condition=pt.Basement_Condition.fillna(\"Po\")\n",
        "pt.Basement_Height=pt.Basement_Height.fillna(\"Fa\")\n",
        "pt.Brick_Veneer_Area=pt.Brick_Veneer_Area.fillna(pt.Brick_Veneer_Area.mean())\n",
        "pt.Brick_Veneer_Type=pt.Brick_Veneer_Type.fillna(\"BrkCmn\")\n",
        "pt.BsmtFinSF1=pt.BsmtFinSF1.fillna(pt.BsmtFinSF1.mean())\n",
        "pt.BsmtFinSF2=pt.BsmtFinSF2.fillna(pt.BsmtFinSF2.mean())\n",
        "pt.BsmtUnfSF=pt.BsmtUnfSF.fillna(pt.BsmtUnfSF.mean())\n",
        "pt.Total_Basement_Area=pt.Total_Basement_Area.fillna(pt.Total_Basement_Area.mean())\n",
        "pt.Underground_Full_Bathroom=pt.Underground_Full_Bathroom.fillna(3.0)\n",
        "pt.Underground_Half_Bathroom=pt.Underground_Half_Bathroom.fillna(2.0)\n",
        "pt.Kitchen_Quality=pt.Kitchen_Quality.fillna(\"Fa\")\n",
        "pt.Functional_Rate=pt.Functional_Rate.fillna(\"MS\")\n",
        "pt.Garage_Size=pt.Garage_Size.fillna(5.0)\n",
        "pt.Garage_Area=pt.Garage_Area.fillna(pt.Garage_Area.mean())\n",
        "pt.Sale_Type=pt.Sale_Type.fillna(\"Con\")\n",
        "\n",
        "\n",
        "#newdf['price'].replace({0 : newdf['price'].mean()}, inplace = True)"
      ],
      "metadata": {
        "id": "YjCTAdVrb8ju"
      },
      "execution_count": null,
      "outputs": []
    },
    {
      "cell_type": "code",
      "source": [
        "#removing unnecessary columns\n",
        "\n",
        "pt.drop(['Id','Pool_Quality','Fence_Quality','Miscellaneous_Feature','Lane_Type'],axis=1, inplace=True)"
      ],
      "metadata": {
        "id": "KWLy7qD-QBzK"
      },
      "execution_count": null,
      "outputs": []
    },
    {
      "cell_type": "code",
      "source": [
        "pt.info()"
      ],
      "metadata": {
        "id": "1mum7rSMcDIl"
      },
      "execution_count": null,
      "outputs": []
    },
    {
      "cell_type": "markdown",
      "source": [
        "**DTYPE CONVERSION OF TEST DATA**"
      ],
      "metadata": {
        "id": "Ld2TA3dlAg5L"
      }
    },
    {
      "cell_type": "code",
      "source": [
        "\n",
        "pt.Zoning_Class=le.fit_transform(pt.Zoning_Class)\n",
        "pt.Lot_Extent=le.fit_transform(pt.Lot_Extent)\n",
        "pt.Utility_Type=le.fit_transform(pt.Utility_Type)\n",
        "pt.Exterior1st=le.fit_transform(pt.Exterior1st)\n",
        "pt.Exterior2nd=le.fit_transform(pt.Exterior2nd)\n",
        "pt.Brick_Veneer_Type=le.fit_transform(pt.Brick_Veneer_Type)\n",
        "#pt.Brick_Veneer_Area=le.fit_transform(pt.Brick_Veneer_Area)\n",
        "#pt.Underground_Full_Bathroom=le.fit_transform(pt.Underground_Full_Bathroom)\n",
        "#pt.Underground_Half_Bathroom=le.fit_transform(pt.Underground_Half_Bathroom)\n",
        "pt.Kitchen_Quality=le.fit_transform(pt.Kitchen_Quality)\n",
        "pt.Functional_Rate=le.fit_transform(pt.Functional_Rate)\n",
        "pt.Fireplace_Quality=le.fit_transform(pt.Fireplace_Quality)\n",
        "pt.Garage=le.fit_transform(pt.Garage)\n",
        "#pt.Garage_Built_Year=le.fit_transform(pt.Garage_Built_Year)\n",
        "pt.Heating_Quality=le.fit_transform(pt.Heating_Quality)\n",
        "pt.Heating_Type=le.fit_transform(pt.Heating_Type)\n",
        "pt.Foundation_Type=le.fit_transform(pt.Foundation_Type)\n",
        "pt.Exterior_Condition=le.fit_transform(pt.Exterior_Condition)\n",
        "pt.Exterior_Material=le.fit_transform(pt.Exterior_Material)\n",
        "pt.Roof_Quality=le.fit_transform(pt.Roof_Quality)\n",
        "pt.Roof_Design=le.fit_transform(pt.Roof_Design)\n",
        "pt.House_Design=le.fit_transform(pt.House_Design)\n",
        "pt.House_Type=le.fit_transform(pt.House_Type)\n",
        "pt.Condition2=le.fit_transform(pt.Condition2)\n",
        "pt.Condition1=le.fit_transform(pt.Condition1)\n",
        "pt.Neighborhood=le.fit_transform(pt.Neighborhood)\n",
        "pt.Property_Slope=le.fit_transform(pt.Property_Slope)\n",
        "pt.Lot_Configuration=le.fit_transform(pt.Lot_Configuration)\n",
        "pt.Property_Shape=le.fit_transform(pt.Property_Shape)\n",
        "pt.Road_Type=le.fit_transform(pt.Road_Type)\n",
        "pt.Air_Conditioning=le.fit_transform(pt.Air_Conditioning)\n",
        "pt.Land_Outline=le.fit_transform(pt.Land_Outline)\n",
        "#pt.Brick_Veneer_Area=le.fit_transform(pt.Brick_Veneer_Area)\n",
        "pt.Basement_Height=le.fit_transform(pt.Basement_Height)\n",
        "pt.Basement_Condition=le.fit_transform(pt.Basement_Condition)\n",
        "pt.Exposure_Level=le.fit_transform(pt.Exposure_Level)\n",
        "pt.BsmtFinType1=le.fit_transform(pt.BsmtFinType1)\n",
        "pt.BsmtFinType2=le.fit_transform(pt.BsmtFinType2)\n",
        "pt.Garage_Finish_Year=le.fit_transform(pt.Garage_Finish_Year)\n",
        "pt.Garage_Quality=le.fit_transform(pt.Garage_Quality)\n",
        "#pt.Land_Condition=le.fit_transform(pt.Garage_Condition)\n",
        "pt.Pavedd_Drive=le.fit_transform(pt.Pavedd_Drive)\n",
        "pt.Garage_Condition=le.fit_transform(pt.Garage_Condition)\n",
        "pt.Electrical_System=le.fit_transform(pt.Electrical_System)\n",
        "pt.Sale_Condition=le.fit_transform(pt.Sale_Condition)\n",
        "pt.Sale_Type=le.fit_transform(pt.Sale_Type)\n"
      ],
      "metadata": {
        "id": "8cu1p8J6hfN4"
      },
      "execution_count": null,
      "outputs": []
    },
    {
      "cell_type": "code",
      "source": [
        "pt.info()\n",
        "pt.shape"
      ],
      "metadata": {
        "id": "mUVENxzAmmFY",
        "colab": {
          "base_uri": "https://localhost:8080/"
        },
        "outputId": "4e55890f-0af8-4db0-e855-e37481e5f205"
      },
      "execution_count": null,
      "outputs": [
        {
          "output_type": "stream",
          "name": "stdout",
          "text": [
            "<class 'pandas.core.frame.DataFrame'>\n",
            "RangeIndex: 1459 entries, 0 to 1458\n",
            "Data columns (total 75 columns):\n",
            " #   Column                     Non-Null Count  Dtype  \n",
            "---  ------                     --------------  -----  \n",
            " 0   Building_Class             1459 non-null   int64  \n",
            " 1   Zoning_Class               1459 non-null   int64  \n",
            " 2   Lot_Extent                 1459 non-null   int64  \n",
            " 3   Lot_Size                   1459 non-null   float64\n",
            " 4   Road_Type                  1459 non-null   int64  \n",
            " 5   Property_Shape             1459 non-null   int64  \n",
            " 6   Land_Outline               1459 non-null   int64  \n",
            " 7   Utility_Type               1459 non-null   int64  \n",
            " 8   Lot_Configuration          1459 non-null   int64  \n",
            " 9   Property_Slope             1459 non-null   int64  \n",
            " 10  Neighborhood               1459 non-null   int64  \n",
            " 11  Condition1                 1459 non-null   int64  \n",
            " 12  Condition2                 1459 non-null   int64  \n",
            " 13  House_Type                 1459 non-null   int64  \n",
            " 14  House_Design               1459 non-null   int64  \n",
            " 15  Overall_Material           1459 non-null   int64  \n",
            " 16  House_Condition            1459 non-null   int64  \n",
            " 17  Construction_Year          1459 non-null   int64  \n",
            " 18  Remodel_Year               1459 non-null   int64  \n",
            " 19  Roof_Design                1459 non-null   int64  \n",
            " 20  Roof_Quality               1459 non-null   int64  \n",
            " 21  Exterior1st                1459 non-null   int64  \n",
            " 22  Exterior2nd                1459 non-null   int64  \n",
            " 23  Brick_Veneer_Type          1459 non-null   int64  \n",
            " 24  Brick_Veneer_Area          1459 non-null   float64\n",
            " 25  Exterior_Material          1459 non-null   int64  \n",
            " 26  Exterior_Condition         1459 non-null   int64  \n",
            " 27  Foundation_Type            1459 non-null   int64  \n",
            " 28  Basement_Height            1459 non-null   int64  \n",
            " 29  Basement_Condition         1459 non-null   int64  \n",
            " 30  Exposure_Level             1459 non-null   int64  \n",
            " 31  BsmtFinType1               1459 non-null   int64  \n",
            " 32  BsmtFinSF1                 1459 non-null   float64\n",
            " 33  BsmtFinType2               1459 non-null   int64  \n",
            " 34  BsmtFinSF2                 1459 non-null   float64\n",
            " 35  BsmtUnfSF                  1459 non-null   float64\n",
            " 36  Total_Basement_Area        1459 non-null   float64\n",
            " 37  Heating_Type               1459 non-null   int64  \n",
            " 38  Heating_Quality            1459 non-null   int64  \n",
            " 39  Air_Conditioning           1459 non-null   int64  \n",
            " 40  Electrical_System          1459 non-null   int64  \n",
            " 41  First_Floor_Area           1459 non-null   int64  \n",
            " 42  Second_Floor_Area          1459 non-null   int64  \n",
            " 43  LowQualFinSF               1459 non-null   int64  \n",
            " 44  Grade_Living_Area          1459 non-null   int64  \n",
            " 45  Underground_Full_Bathroom  1459 non-null   float64\n",
            " 46  Underground_Half_Bathroom  1459 non-null   float64\n",
            " 47  Full_Bathroom_Above_Grade  1459 non-null   int64  \n",
            " 48  Half_Bathroom_Above_Grade  1459 non-null   int64  \n",
            " 49  Bedroom_Above_Grade        1459 non-null   int64  \n",
            " 50  Kitchen_Above_Grade        1459 non-null   int64  \n",
            " 51  Kitchen_Quality            1459 non-null   int64  \n",
            " 52  Rooms_Above_Grade          1459 non-null   int64  \n",
            " 53  Functional_Rate            1459 non-null   int64  \n",
            " 54  Fireplaces                 1459 non-null   int64  \n",
            " 55  Fireplace_Quality          1459 non-null   int64  \n",
            " 56  Garage                     1459 non-null   int64  \n",
            " 57  Garage_Built_Year          1459 non-null   float64\n",
            " 58  Garage_Finish_Year         1459 non-null   int64  \n",
            " 59  Garage_Size                1459 non-null   float64\n",
            " 60  Garage_Area                1459 non-null   float64\n",
            " 61  Garage_Quality             1459 non-null   int64  \n",
            " 62  Garage_Condition           1459 non-null   int64  \n",
            " 63  Pavedd_Drive               1459 non-null   int64  \n",
            " 64  W_Deck_Area                1459 non-null   int64  \n",
            " 65  Open_Lobby_Area            1459 non-null   int64  \n",
            " 66  Enclosed_Lobby_Area        1459 non-null   int64  \n",
            " 67  Three_Season_Lobby_Area    1459 non-null   int64  \n",
            " 68  Screen_Lobby_Area          1459 non-null   int64  \n",
            " 69  Pool_Area                  1459 non-null   int64  \n",
            " 70  Miscellaneous_Value        1459 non-null   int64  \n",
            " 71  Month_Sold                 1459 non-null   int64  \n",
            " 72  Year_Sold                  1459 non-null   int64  \n",
            " 73  Sale_Type                  1459 non-null   int64  \n",
            " 74  Sale_Condition             1459 non-null   int64  \n",
            "dtypes: float64(11), int64(64)\n",
            "memory usage: 855.0 KB\n"
          ]
        },
        {
          "output_type": "execute_result",
          "data": {
            "text/plain": [
              "(1459, 75)"
            ]
          },
          "metadata": {},
          "execution_count": 36
        }
      ]
    },
    {
      "cell_type": "code",
      "source": [
        "#plt.figure(figsize=(25,20))\n",
        "#sns.heatmap(ppt.corr(),annot=True)"
      ],
      "metadata": {
        "id": "8lfwStWRYRJ-"
      },
      "execution_count": null,
      "outputs": []
    },
    {
      "cell_type": "code",
      "source": [
        "corr = ppt.corr()\n",
        "corr['Sale_Price'].sort_values(ascending=False)"
      ],
      "metadata": {
        "colab": {
          "base_uri": "https://localhost:8080/"
        },
        "id": "RSpde_DGaQcB",
        "outputId": "5fb5e836-731b-4133-a89d-bcd5324ba373"
      },
      "execution_count": null,
      "outputs": [
        {
          "output_type": "execute_result",
          "data": {
            "text/plain": [
              "Sale_Price                   1.000000\n",
              "Overall_Material             0.790972\n",
              "Grade_Living_Area            0.708584\n",
              "Garage_Size                  0.640383\n",
              "Total_Basement_Area          0.613792\n",
              "First_Floor_Area             0.605971\n",
              "Full_Bathroom_Above_Grade    0.560604\n",
              "Rooms_Above_Grade            0.533682\n",
              "Construction_Year            0.522877\n",
              "Remodel_Year                 0.507015\n",
              "Garage_Built_Year            0.486264\n",
              "Brick_Veneer_Area            0.477411\n",
              "Fireplaces                   0.466828\n",
              "BsmtFinSF1                   0.386783\n",
              "Lot_Extent                   0.351896\n",
              "Second_Floor_Area            0.319193\n",
              "Half_Bathroom_Above_Grade    0.284626\n",
              "Lot_Size                     0.263843\n",
              "Underground_Full_Bathroom    0.227551\n",
              "BsmtUnfSF                    0.214281\n",
              "Bedroom_Above_Grade          0.168272\n",
              "Screen_Lobby_Area            0.111378\n",
              "Pool_Area                    0.092389\n",
              "Month_Sold                   0.046401\n",
              "Three_Season_Lobby_Area      0.044553\n",
              "W_Deck_Area                  0.042814\n",
              "Enclosed_Lobby_Area          0.020789\n",
              "Garage_Area                  0.010993\n",
              "Open_Lobby_Area             -0.010131\n",
              "BsmtFinSF2                  -0.010952\n",
              "Underground_Half_Bathroom   -0.016915\n",
              "Miscellaneous_Value         -0.021216\n",
              "Id                          -0.021441\n",
              "LowQualFinSF                -0.025642\n",
              "Year_Sold                   -0.028884\n",
              "House_Condition             -0.077754\n",
              "Building_Class              -0.084563\n",
              "Kitchen_Above_Grade         -0.135979\n",
              "Name: Sale_Price, dtype: float64"
            ]
          },
          "metadata": {},
          "execution_count": 67
        }
      ]
    },
    {
      "cell_type": "code",
      "source": [
        "corr[corr['Sale_Price']>0.5].index"
      ],
      "metadata": {
        "colab": {
          "base_uri": "https://localhost:8080/"
        },
        "id": "_VMdWUWmfX2D",
        "outputId": "3ad861ae-91e7-4e2b-acfd-f38ec042b89f"
      },
      "execution_count": null,
      "outputs": [
        {
          "output_type": "execute_result",
          "data": {
            "text/plain": [
              "Index(['Overall_Material', 'Construction_Year', 'Remodel_Year',\n",
              "       'Total_Basement_Area', 'First_Floor_Area', 'Grade_Living_Area',\n",
              "       'Full_Bathroom_Above_Grade', 'Rooms_Above_Grade', 'Garage_Size',\n",
              "       'Sale_Price'],\n",
              "      dtype='object')"
            ]
          },
          "metadata": {},
          "execution_count": 68
        }
      ]
    },
    {
      "cell_type": "code",
      "source": [
        "sns.distplot(ppt1.Grade_Living_Area)"
      ],
      "metadata": {
        "colab": {
          "base_uri": "https://localhost:8080/",
          "height": 364
        },
        "id": "Ief4b7hA6OVG",
        "outputId": "d3e5626d-ad2c-4dfb-e31e-b2622f2f0fa2"
      },
      "execution_count": null,
      "outputs": [
        {
          "output_type": "stream",
          "name": "stderr",
          "text": [
            "/usr/local/lib/python3.7/dist-packages/seaborn/distributions.py:2619: FutureWarning: `distplot` is a deprecated function and will be removed in a future version. Please adapt your code to use either `displot` (a figure-level function with similar flexibility) or `histplot` (an axes-level function for histograms).\n",
            "  warnings.warn(msg, FutureWarning)\n"
          ]
        },
        {
          "output_type": "execute_result",
          "data": {
            "text/plain": [
              "<matplotlib.axes._subplots.AxesSubplot at 0x7f2d654a7e10>"
            ]
          },
          "metadata": {},
          "execution_count": 89
        },
        {
          "output_type": "display_data",
          "data": {
            "text/plain": [
              "<Figure size 432x288 with 1 Axes>"
            ],
            "image/png": "[encoded data removed]"
          },
          "metadata": {}
        }
      ]
    },
    {
      "cell_type": "code",
      "source": [
        "IQR=ppt1.Grade_Living_Area.quantile(0.75)-ppt1.Grade_Living_Area.quantile(0.25)\n",
        "IQR"
      ],
      "metadata": {
        "colab": {
          "base_uri": "https://localhost:8080/"
        },
        "id": "qWw2g7cR6XFt",
        "outputId": "897ed2ad-762d-4d00-b624-d283dc06ffe1"
      },
      "execution_count": null,
      "outputs": [
        {
          "output_type": "execute_result",
          "data": {
            "text/plain": [
              "648.5"
            ]
          },
          "metadata": {},
          "execution_count": 79
        }
      ]
    },
    {
      "cell_type": "code",
      "source": [
        "lb1=ppt1.Grade_Living_Area.quantile(0.25)-(IQR*3)# for extreme boundary instead of 1.5 we can take 3\n",
        "ub1=ppt1.Grade_Living_Area.quantile(0.75)+(IQR*3)\n",
        "lb1,ub1"
      ],
      "metadata": {
        "colab": {
          "base_uri": "https://localhost:8080/"
        },
        "id": "k6Y0_9nv6XJB",
        "outputId": "d084aeef-01f6-42fb-a12e-f1ccbb0b7b90"
      },
      "execution_count": null,
      "outputs": [
        {
          "output_type": "execute_result",
          "data": {
            "text/plain": [
              "(-816.5, 3723.0)"
            ]
          },
          "metadata": {},
          "execution_count": 80
        }
      ]
    },
    {
      "cell_type": "code",
      "source": [
        "ppt1.loc[ppt1[\"Grade_Living_Area\"]>3723.0,\"Grade_Living_Area\"]=3723.0\n",
        "#sns.distplot(ppt1.Grade_Living_Area)"
      ],
      "metadata": {
        "id": "AXmJ9L446XNO"
      },
      "execution_count": null,
      "outputs": []
    },
    {
      "cell_type": "code",
      "source": [
        "sns.distplot(ppt1.Grade_Living_Area)"
      ],
      "metadata": {
        "colab": {
          "base_uri": "https://localhost:8080/",
          "height": 364
        },
        "id": "PBRk8HzD6XRB",
        "outputId": "5304e90a-2403-417d-d4fa-5fdfb82524bb"
      },
      "execution_count": null,
      "outputs": [
        {
          "output_type": "stream",
          "name": "stderr",
          "text": [
            "/usr/local/lib/python3.7/dist-packages/seaborn/distributions.py:2619: FutureWarning: `distplot` is a deprecated function and will be removed in a future version. Please adapt your code to use either `displot` (a figure-level function with similar flexibility) or `histplot` (an axes-level function for histograms).\n",
            "  warnings.warn(msg, FutureWarning)\n"
          ]
        },
        {
          "output_type": "execute_result",
          "data": {
            "text/plain": [
              "<matplotlib.axes._subplots.AxesSubplot at 0x7f2d65a2d410>"
            ]
          },
          "metadata": {},
          "execution_count": 83
        },
        {
          "output_type": "display_data",
          "data": {
            "text/plain": [
              "<Figure size 432x288 with 1 Axes>"
            ],
            "image/png": "[encoded data removed]"
          },
          "metadata": {}
        }
      ]
    },
    {
      "cell_type": "code",
      "source": [
        "IQR=ppt1.Construction_Year.quantile(0.75)-ppt1.Construction_Year.quantile(0.25)\n",
        "IQR\n",
        "lb1=ppt1.Construction_Year.quantile(0.25)-(IQR*3)# for extreme boundary instead of 1.5 we can take 3\n",
        "ub1=ppt.Construction_Year.quantile(0.75)+(IQR*3)\n",
        "lb1,ub1\n",
        "ppt1.loc[ppt1[\"Construction_Year\"]>1816.0,\"Construction_Year\"]=1816.0"
      ],
      "metadata": {
        "id": "K1BQLKky6XT-"
      },
      "execution_count": null,
      "outputs": []
    },
    {
      "cell_type": "code",
      "source": [
        "sns.distplot(ppt1.Construction_Year)"
      ],
      "metadata": {
        "colab": {
          "base_uri": "https://localhost:8080/",
          "height": 399
        },
        "id": "SrP911Xl6XSj",
        "outputId": "a5743cc0-2800-4ffe-dc18-01287fd11aa0"
      },
      "execution_count": null,
      "outputs": [
        {
          "output_type": "stream",
          "name": "stderr",
          "text": [
            "/usr/local/lib/python3.7/dist-packages/seaborn/distributions.py:2619: FutureWarning: `distplot` is a deprecated function and will be removed in a future version. Please adapt your code to use either `displot` (a figure-level function with similar flexibility) or `histplot` (an axes-level function for histograms).\n",
            "  warnings.warn(msg, FutureWarning)\n",
            "/usr/local/lib/python3.7/dist-packages/seaborn/distributions.py:316: UserWarning: Dataset has 0 variance; skipping density estimate. Pass `warn_singular=False` to disable this warning.\n",
            "  warnings.warn(msg, UserWarning)\n"
          ]
        },
        {
          "output_type": "execute_result",
          "data": {
            "text/plain": [
              "<matplotlib.axes._subplots.AxesSubplot at 0x7f2d65a4fd90>"
            ]
          },
          "metadata": {},
          "execution_count": 86
        },
        {
          "output_type": "display_data",
          "data": {
            "text/plain": [
              "<Figure size 432x288 with 1 Axes>"
            ],
            "image/png": "[encoded data removed]"
          },
          "metadata": {}
        }
      ]
    },
    {
      "cell_type": "code",
      "source": [
        "IQR=ppt1.Total_Basement_Area.quantile(0.75)-ppt1.Total_Basement_Area.quantile(0.25)\n",
        "IQR\n",
        "lb1=ppt1.Total_Basement_Area.quantile(0.25)-(IQR*3)# for extreme boundary instead of 1.5 we can take 3\n",
        "ub1=ppt1.Total_Basement_Area.quantile(0.75)+(IQR*3)\n",
        "lb1,ub1\n",
        "ppt1.loc[ppt1[\"Total_Basement_Area\"]> 2807.5,\"Total_Basement_Area\"]= 2807.5"
      ],
      "metadata": {
        "id": "Hq7E-4Xa83g5"
      },
      "execution_count": null,
      "outputs": []
    },
    {
      "cell_type": "code",
      "source": [
        "sns.distplot(ppt1.Total_Basement_Area)"
      ],
      "metadata": {
        "colab": {
          "base_uri": "https://localhost:8080/",
          "height": 367
        },
        "id": "Yi34p67j83kp",
        "outputId": "cbf5804c-8ca8-4d5a-cd24-f7e14e6ea83f"
      },
      "execution_count": null,
      "outputs": [
        {
          "output_type": "stream",
          "name": "stderr",
          "text": [
            "/usr/local/lib/python3.7/dist-packages/seaborn/distributions.py:2619: FutureWarning: `distplot` is a deprecated function and will be removed in a future version. Please adapt your code to use either `displot` (a figure-level function with similar flexibility) or `histplot` (an axes-level function for histograms).\n",
            "  warnings.warn(msg, FutureWarning)\n"
          ]
        },
        {
          "output_type": "execute_result",
          "data": {
            "text/plain": [
              "<matplotlib.axes._subplots.AxesSubplot at 0x7f2d6557e250>"
            ]
          },
          "metadata": {},
          "execution_count": 88
        },
        {
          "output_type": "display_data",
          "data": {
            "text/plain": [
              "<Figure size 432x288 with 1 Axes>"
            ],
            "image/png": "[encoded data removed]"
          },
          "metadata": {}
        }
      ]
    },
    {
      "cell_type": "code",
      "source": [
        "ppt1.shape"
      ],
      "metadata": {
        "colab": {
          "base_uri": "https://localhost:8080/"
        },
        "id": "rwbypssxlXS8",
        "outputId": "17e19cdb-da34-4830-d08f-9f215bd8432a"
      },
      "execution_count": null,
      "outputs": [
        {
          "output_type": "execute_result",
          "data": {
            "text/plain": [
              "(1459, 72)"
            ]
          },
          "metadata": {},
          "execution_count": 75
        }
      ]
    },
    {
      "cell_type": "code",
      "source": [
        "#GrLivArea,TotalBsmtSF,OverallQual , GarageCars etc. seems to have high correlation with SalePrice.\n",
        "\n",
        "corr = ppt.corr()\n",
        "#correlation matrix\n",
        "k = 10 #number of variables for heatmap\n",
        "cols = corr.nlargest(k, 'Sale_Price')['Sale_Price'].index\n",
        "cm = np.corrcoef(ppt[cols].values.T)\n",
        "sns.set(font_scale=1.25)\n",
        "hm = sns.heatmap(cm, cbar=True, annot=True, square=True, fmt='.2f', annot_kws={'size': 10}, yticklabels=cols.values, xticklabels=cols.values)\n",
        "plt.show()"
      ],
      "metadata": {
        "colab": {
          "base_uri": "https://localhost:8080/",
          "height": 460
        },
        "id": "Z8Q0Vu74blxL",
        "outputId": "3a5637ff-e73e-4ab0-eaf3-0485e030997f"
      },
      "execution_count": null,
      "outputs": [
        {
          "output_type": "display_data",
          "data": {
            "text/plain": [
              "<Figure size 432x288 with 2 Axes>"
            ],
            "image/png": "[encoded data removed]"
          },
          "metadata": {}
        }
      ]
    },
    {
      "cell_type": "code",
      "source": [
        "# Few plot between positive correlation between the variables.\n",
        "plt.scatter(ppt.Sale_Price,ppt.Grade_Living_Area)\n",
        "plt.title('Sale_Price and Grade_Living_Area')\n",
        "plt.show()\n",
        "\n"
      ],
      "metadata": {
        "colab": {
          "base_uri": "https://localhost:8080/",
          "height": 290
        },
        "id": "ilO_GmOzcFiV",
        "outputId": "a98f9e2b-94dd-496e-f8c0-04aafb8ea00e"
      },
      "execution_count": null,
      "outputs": [
        {
          "output_type": "display_data",
          "data": {
            "text/plain": [
              "<Figure size 432x288 with 1 Axes>"
            ],
            "image/png": "[encoded data removed]"
          },
          "metadata": {}
        }
      ]
    },
    {
      "cell_type": "markdown",
      "source": [
        "There is a positive correlation between the variables."
      ],
      "metadata": {
        "id": "GRGrSNISdV1J"
      }
    },
    {
      "cell_type": "code",
      "source": [
        "# plot between TotalBsmtSF and SalePrice\n",
        "plt.scatter(ppt.Sale_Price,ppt.Total_Basement_Area)\n",
        "plt.title( 'Sale_Price and Total_Basement_Area')\n",
        "plt.show()"
      ],
      "metadata": {
        "colab": {
          "base_uri": "https://localhost:8080/",
          "height": 290
        },
        "id": "AMrFmbR2dgJ6",
        "outputId": "c008a5d4-c154-47ce-c67e-d5c728f81376"
      },
      "execution_count": null,
      "outputs": [
        {
          "output_type": "display_data",
          "data": {
            "text/plain": [
              "<Figure size 432x288 with 1 Axes>"
            ],
            "image/png": "[encoded data removed]"
          },
          "metadata": {}
        }
      ]
    },
    {
      "cell_type": "code",
      "source": [
        "#Let's look at the heatmap!\n",
        "\n",
        "n, bins, patches = plt.hist(x=ppt['Sale_Price'], bins='auto', color='#0504aa',\n",
        "                            alpha=0.7, rwidth=0.85)\n",
        "plt.grid(axis='y', alpha=0.75)\n",
        "plt.xlabel('Value')\n",
        "plt.ylabel('Frequency')\n",
        "plt.title('Sale_Price Histogram')\n",
        "plt.text(500000, 120, r'$\\mu=15, b=3$')\n",
        "maxfreq = n.max()\n",
        "# Set a clean upper y-axis limit.\n",
        "plt.ylim(ymax=np.ceil(maxfreq / 10) * 10 if maxfreq % 10 else maxfreq + 10)"
      ],
      "metadata": {
        "colab": {
          "base_uri": "https://localhost:8080/",
          "height": 312
        },
        "id": "mmHlKOKGa-6w",
        "outputId": "63dbbf39-ef87-4944-c5a3-43f717442d19"
      },
      "execution_count": null,
      "outputs": [
        {
          "output_type": "execute_result",
          "data": {
            "text/plain": [
              "(0.0, 180.0)"
            ]
          },
          "metadata": {},
          "execution_count": 54
        },
        {
          "output_type": "display_data",
          "data": {
            "text/plain": [
              "<Figure size 432x288 with 1 Axes>"
            ],
            "image/png": "[encoded data removed]"
          },
          "metadata": {
            "needs_background": "light"
          }
        }
      ]
    },
    {
      "cell_type": "markdown",
      "source": [
        "**How common factors are affecting the price of the Property **"
      ],
      "metadata": {
        "id": "IY9dCJSLIp8x"
      }
    },
    {
      "cell_type": "code",
      "source": [
        "#Which is the most common house (Bedroom wise)\n",
        "\n",
        "ppt['Bedroom_Above_Grade'].value_counts().plot(kind='bar')\n",
        "plt.title('Number Of Bedroom')\n",
        "plt.xlabel('Bedroom')\n",
        "plt.ylabel('count')\n"
      ],
      "metadata": {
        "id": "IeHACTOnGW-H",
        "colab": {
          "base_uri": "https://localhost:8080/",
          "height": 309
        },
        "outputId": "fb6dd30a-ca4d-46c5-bd81-bf21e9c34e2e"
      },
      "execution_count": null,
      "outputs": [
        {
          "output_type": "execute_result",
          "data": {
            "text/plain": [
              "Text(0, 0.5, 'count')"
            ]
          },
          "metadata": {},
          "execution_count": 38
        },
        {
          "output_type": "display_data",
          "data": {
            "text/plain": [
              "<Figure size 432x288 with 1 Axes>"
            ],
            "image/png": "[encoded data removed]"
          },
          "metadata": {
            "needs_background": "light"
          }
        }
      ]
    },
    {
      "cell_type": "code",
      "source": [
        "# How common factors are affecting the price of the Property \n",
        "\n",
        "plt.scatter(ppt.Sale_Price,ppt.First_Floor_Area)\n",
        "plt.title(\"Price vs  First_Floor_Area_Sqrf\")"
      ],
      "metadata": {
        "colab": {
          "base_uri": "https://localhost:8080/",
          "height": 307
        },
        "id": "QEpP7O7fJQqj",
        "outputId": "74214662-10cd-49b5-d245-6ecb13132045"
      },
      "execution_count": null,
      "outputs": [
        {
          "output_type": "execute_result",
          "data": {
            "text/plain": [
              "Text(0.5, 1.0, 'Price vs  First_Floor_Area_Sqrf')"
            ]
          },
          "metadata": {},
          "execution_count": 69
        },
        {
          "output_type": "display_data",
          "data": {
            "text/plain": [
              "<Figure size 432x288 with 1 Axes>"
            ],
            "image/png": "[encoded data removed]"
          },
          "metadata": {}
        }
      ]
    },
    {
      "cell_type": "code",
      "source": [
        "plt.scatter(ppt.Sale_Price,ppt.Second_Floor_Area)\n",
        "plt.title(\"Price vs  Second_Floor_Area_Sqrf\")"
      ],
      "metadata": {
        "colab": {
          "base_uri": "https://localhost:8080/",
          "height": 307
        },
        "id": "mqCQi37HDyQC",
        "outputId": "7f356b52-2afd-4595-8ff7-ee12dc2f5945"
      },
      "execution_count": null,
      "outputs": [
        {
          "output_type": "execute_result",
          "data": {
            "text/plain": [
              "Text(0.5, 1.0, 'Price vs  Second_Floor_Area_Sqrf')"
            ]
          },
          "metadata": {},
          "execution_count": 70
        },
        {
          "output_type": "display_data",
          "data": {
            "text/plain": [
              "<Figure size 432x288 with 1 Axes>"
            ],
            "image/png": "[encoded data removed]"
          },
          "metadata": {}
        }
      ]
    },
    {
      "cell_type": "code",
      "source": [
        "plt.scatter(ppt.Sale_Price,ppt.Garage_Area)\n",
        "plt.title(\"Price vs Garage_Area\")"
      ],
      "metadata": {
        "colab": {
          "base_uri": "https://localhost:8080/",
          "height": 298
        },
        "id": "g9MqWaAGGFv3",
        "outputId": "81d8b828-3963-428f-c3e8-ea12985e53de"
      },
      "execution_count": null,
      "outputs": [
        {
          "output_type": "execute_result",
          "data": {
            "text/plain": [
              "Text(0.5, 1.0, 'Price vs Garage_Area')"
            ]
          },
          "metadata": {},
          "execution_count": 40
        },
        {
          "output_type": "display_data",
          "data": {
            "text/plain": [
              "<Figure size 432x288 with 1 Axes>"
            ],
            "image/png": "[encoded data removed]"
          },
          "metadata": {
            "needs_background": "light"
          }
        }
      ]
    },
    {
      "cell_type": "code",
      "source": [
        "plt.scatter(ppt.Sale_Price,ppt.Grade_Living_Area)\n",
        "plt.title(\"Price vs Grade_Living_Area\")"
      ],
      "metadata": {
        "colab": {
          "base_uri": "https://localhost:8080/",
          "height": 298
        },
        "id": "23Zln6vEGU_8",
        "outputId": "1f062c43-22f0-4c8f-8640-deed86770d66"
      },
      "execution_count": null,
      "outputs": [
        {
          "output_type": "execute_result",
          "data": {
            "text/plain": [
              "Text(0.5, 1.0, 'Price vs Grade_Living_Area')"
            ]
          },
          "metadata": {},
          "execution_count": 41
        },
        {
          "output_type": "display_data",
          "data": {
            "text/plain": [
              "<Figure size 432x288 with 1 Axes>"
            ],
            "image/png": "[encoded data removed]"
          },
          "metadata": {
            "needs_background": "light"
          }
        }
      ]
    },
    {
      "cell_type": "code",
      "source": [
        "plt.scatter(ppt.Sale_Price,ppt.Total_Basement_Area)\n",
        "plt.title(\"Price vs Total_Basement_Area \")"
      ],
      "metadata": {
        "colab": {
          "base_uri": "https://localhost:8080/",
          "height": 298
        },
        "id": "AoRSreUxGg6Z",
        "outputId": "7730b94c-0759-45fb-bdbe-e1b707de9a5f"
      },
      "execution_count": null,
      "outputs": [
        {
          "output_type": "execute_result",
          "data": {
            "text/plain": [
              "Text(0.5, 1.0, 'Price vs Total_Basement_Area ')"
            ]
          },
          "metadata": {},
          "execution_count": 42
        },
        {
          "output_type": "display_data",
          "data": {
            "text/plain": [
              "<Figure size 432x288 with 1 Axes>"
            ],
            "image/png": "[encoded data removed]"
          },
          "metadata": {
            "needs_background": "light"
          }
        }
      ]
    },
    {
      "cell_type": "code",
      "source": [
        "from sklearn.model_selection import train_test_split\n"
      ],
      "metadata": {
        "id": "UzQoxvmI3KZt"
      },
      "execution_count": null,
      "outputs": []
    },
    {
      "cell_type": "code",
      "source": [
        "pr_x=ppt.iloc[:,1:-1]\n",
        "pr_y=ppt.iloc[:,-1]\n",
        "#test_x=pt.iloc[:,1:]\n",
        "#print(pt_y)\n"
      ],
      "metadata": {
        "id": "tlMqrCzkPckL"
      },
      "execution_count": null,
      "outputs": []
    },
    {
      "cell_type": "code",
      "source": [
        "pr_x.shape,pr_y.shape"
      ],
      "metadata": {
        "colab": {
          "base_uri": "https://localhost:8080/"
        },
        "id": "wToWZEtaZJG4",
        "outputId": "a0037f9e-994f-46b3-815e-7e94ab585a2f"
      },
      "execution_count": null,
      "outputs": [
        {
          "output_type": "execute_result",
          "data": {
            "text/plain": [
              "((1459, 74), (1459,))"
            ]
          },
          "metadata": {},
          "execution_count": 23
        }
      ]
    },
    {
      "cell_type": "code",
      "source": [
        "pr_x_train,pr_x_test,pr_y_train,pr_y_test=train_test_split(pr_x,pr_y,test_size=0.1,random_state=0)"
      ],
      "metadata": {
        "id": "qTez1fH5siCF"
      },
      "execution_count": null,
      "outputs": []
    },
    {
      "cell_type": "code",
      "source": [
        "pr_x_train.shape,pr_x_test.shape,pr_y_train.shape,pr_y_test.shape"
      ],
      "metadata": {
        "colab": {
          "base_uri": "https://localhost:8080/"
        },
        "id": "Mm4ZMAx0iDyX",
        "outputId": "5f50e489-6564-4b8d-cc32-210c49f3925c"
      },
      "execution_count": null,
      "outputs": [
        {
          "output_type": "execute_result",
          "data": {
            "text/plain": [
              "((1313, 74), (146, 74), (1313,), (146,))"
            ]
          },
          "metadata": {},
          "execution_count": 25
        }
      ]
    },
    {
      "cell_type": "code",
      "source": [
        "from sklearn.linear_model import LinearRegression"
      ],
      "metadata": {
        "id": "jdSdTPggiNHe"
      },
      "execution_count": null,
      "outputs": []
    },
    {
      "cell_type": "code",
      "source": [
        "lr=LinearRegression()"
      ],
      "metadata": {
        "id": "E_9v-akLioGE"
      },
      "execution_count": null,
      "outputs": []
    },
    {
      "cell_type": "code",
      "source": [
        "lr.fit(pr_x_train,pr_y_train)"
      ],
      "metadata": {
        "colab": {
          "base_uri": "https://localhost:8080/"
        },
        "id": "3XFrQlhhir_M",
        "outputId": "1418527a-69e0-4814-baca-d1e5f2866ce2"
      },
      "execution_count": null,
      "outputs": [
        {
          "output_type": "execute_result",
          "data": {
            "text/plain": [
              "LinearRegression()"
            ]
          },
          "metadata": {},
          "execution_count": 28
        }
      ]
    },
    {
      "cell_type": "code",
      "source": [
        "lr_prd=lr.predict(pr_x_test)"
      ],
      "metadata": {
        "id": "iTuqHCL8i12E"
      },
      "execution_count": null,
      "outputs": []
    },
    {
      "cell_type": "code",
      "source": [
        "lr_prd"
      ],
      "metadata": {
        "colab": {
          "base_uri": "https://localhost:8080/"
        },
        "id": "CCXrdVB6jB3O",
        "outputId": "c57f1b64-24df-49d9-8641-0e391523a0e6"
      },
      "execution_count": null,
      "outputs": [
        {
          "output_type": "execute_result",
          "data": {
            "text/plain": [
              "array([228074.37642948, 115073.03850546, 143195.90894068, 138483.99356823,\n",
              "       149514.73152288,  97094.84539682, 170306.54409944, 193122.49941381,\n",
              "        66814.34775542,  98587.58736266, 111569.24715731, 331860.49590606,\n",
              "        89774.57785706, 212762.05498669, 293565.38850892, 182243.19235441,\n",
              "       167381.48617493, 360058.40540185, 227761.93000618, 191448.07027304,\n",
              "       386642.55582426,  62950.09151074, 128282.29309692, 199515.75416587,\n",
              "       181028.11723205, 201730.01972139, 152129.86893297, 271726.56349613,\n",
              "        39349.18252855, 322497.32777282, 110859.12962918, 151334.68505323,\n",
              "       149507.58225908, 146725.12439705, 234749.00981144, 296402.93830035,\n",
              "       128621.32699186, 188236.74271775,  95556.12073731, 116431.05377721,\n",
              "        92138.76583815, 148887.76325244, 222021.77644127,  75264.42635461,\n",
              "       125396.17637109, 207778.49874504, 207097.33821766, 194294.35296378,\n",
              "       155467.61042754, 274396.7744589 , 296387.95225723, 169897.30868247,\n",
              "        69332.03994036,  77167.53578251, 136334.3143338 , 147806.0002935 ,\n",
              "       239995.59636597, 235476.49141642, 339353.91753607, 162513.02801605,\n",
              "       232599.13525245, 151753.70353666, 186781.18283125, 286320.49784393,\n",
              "       142639.17542664, 148994.71792526,  95181.53626444, 232099.75794136,\n",
              "        69808.31745764, 165597.29695796, 126512.51280633, 181877.83718853,\n",
              "       153247.63286623, 116689.55905249, 126641.44522016, 127065.69205739,\n",
              "       318607.80135678, 170518.61177276, 335870.02131345, 176994.54879266,\n",
              "       220342.85690299,  86850.81769789, 215548.0357571 , 279708.5111097 ,\n",
              "       410658.82831945, 153218.32522019, 281264.8052292 , 239123.45858894,\n",
              "       245558.42043045, 202365.85229663, 178548.13956053, 109500.1459869 ,\n",
              "       165852.48947598, 122096.02797816, 156937.82361421, 116386.6315168 ,\n",
              "       111471.96873275, 204278.30583656, 114551.07659968, 159445.25936499,\n",
              "       193950.5334644 , 187717.70145692, 214208.90026131, 226861.9954962 ,\n",
              "       262166.1472617 , 178567.12599661, 182180.04380378, 288349.13991132,\n",
              "        94101.73055115, 251634.83793678,  80532.77605538, 157664.64982809,\n",
              "       181904.82987689, 166956.3785547 , 137787.95944393, 169779.22479137,\n",
              "       131382.86015275, 207893.534713  , 155803.67533851, 253755.48616124,\n",
              "       182606.27534111, 166543.0377085 , 146335.59464381, 233231.02948751,\n",
              "       148298.03332371, 235428.69841039,  96625.13671461,  77056.56929911,\n",
              "       158233.39934127,  85805.58434816, 129417.10443877, 125454.18419906,\n",
              "       124178.3511894 ,  47972.24765934, 193255.21627709,  93232.20084835,\n",
              "       255261.41507621, 177177.11268017, 117031.29633259,  97942.92504292,\n",
              "       226017.10354067, 211035.02002568, 131116.60214753, 171934.30928658,\n",
              "       193548.14529691, 287278.33524926])"
            ]
          },
          "metadata": {},
          "execution_count": 30
        }
      ]
    },
    {
      "cell_type": "code",
      "source": [
        "lr.intercept_"
      ],
      "metadata": {
        "colab": {
          "base_uri": "https://localhost:8080/"
        },
        "id": "xhcl7pDZ_Fk2",
        "outputId": "7ac48659-744d-4cf7-d0f4-9a4183ae3cb1"
      },
      "execution_count": null,
      "outputs": [
        {
          "output_type": "execute_result",
          "data": {
            "text/plain": [
              "1306729.4372192037"
            ]
          },
          "metadata": {},
          "execution_count": 31
        }
      ]
    },
    {
      "cell_type": "code",
      "source": [
        "lr.coef_"
      ],
      "metadata": {
        "colab": {
          "base_uri": "https://localhost:8080/"
        },
        "id": "umJRqXQT_P74",
        "outputId": "612fb902-0929-4c73-c8e6-a649d5256c25"
      },
      "execution_count": null,
      "outputs": [
        {
          "output_type": "execute_result",
          "data": {
            "text/plain": [
              "array([-9.04310300e+02,  4.95861565e+01,  2.36904122e-01,  2.92426879e+04,\n",
              "       -1.34709739e+03,  4.15456036e+03, -4.10371958e+04,  5.25708897e+01,\n",
              "        8.11267266e+03,  4.43531779e+02, -9.76564442e+02, -8.31257282e+03,\n",
              "       -4.63361702e+03, -2.15307081e+03,  1.16228773e+04,  5.47047815e+03,\n",
              "        2.47955537e+02,  6.48408181e+01,  2.37949814e+03,  2.88736984e+04,\n",
              "       -3.66763192e+02, -2.04854018e+02,  2.95767835e+03,  4.78699987e+01,\n",
              "       -7.02807317e+03,  4.82530496e+02,  5.13953303e+02, -9.35258589e+03,\n",
              "        2.49187405e+03, -3.55379229e+03, -9.87921049e+02,  6.15421357e+00,\n",
              "        1.54019642e+03,  1.30404027e+01, -3.81966310e+00,  1.53749533e+01,\n",
              "       -2.60318837e+03, -8.37723090e+02,  1.22181811e+03, -5.05937701e+02,\n",
              "        1.63381283e+01,  2.37113883e+01, -1.90600603e+01,  2.09894565e+01,\n",
              "        4.60971889e+03, -6.34209357e+02,  3.95282898e+03, -1.60965694e+03,\n",
              "       -4.73104196e+03, -1.53049042e+04, -7.54152031e+03,  3.78693542e+03,\n",
              "        2.07870752e+03,  8.41354677e+03, -1.84658311e+03,  3.53136261e+02,\n",
              "       -7.39256694e+01, -1.69810213e+03,  1.19322268e+04,  1.49630385e+00,\n",
              "        5.92570938e+02, -2.01966982e+03,  2.18192990e+03, -2.43820320e+00,\n",
              "        1.08908449e+01,  2.04859564e+01,  2.48375441e+01,  2.81189614e+01,\n",
              "       -9.92061411e+00, -3.65795688e-01, -2.56925329e+02, -1.01766312e+03,\n",
              "       -7.35585331e+02,  2.43545395e+03])"
            ]
          },
          "metadata": {},
          "execution_count": 32
        }
      ]
    },
    {
      "cell_type": "code",
      "source": [
        "R2=lr.score(pr_x_train,pr_y_train)\n",
        "R2"
      ],
      "metadata": {
        "colab": {
          "base_uri": "https://localhost:8080/"
        },
        "id": "2hF_rg-4_jJN",
        "outputId": "c0c9cf2a-60c3-4a27-975a-960903dc688f"
      },
      "execution_count": null,
      "outputs": [
        {
          "output_type": "execute_result",
          "data": {
            "text/plain": [
              "0.85331403544691"
            ]
          },
          "metadata": {},
          "execution_count": 33
        }
      ]
    },
    {
      "cell_type": "code",
      "source": [
        "adj_R2=1-(((1-R2)*(1313-1))/(1313-74-1))\n",
        "adj_R2"
      ],
      "metadata": {
        "colab": {
          "base_uri": "https://localhost:8080/"
        },
        "id": "xQYcjJ1P_j2N",
        "outputId": "f7d2714a-fde1-4e1f-a591-fe77982d0109"
      },
      "execution_count": null,
      "outputs": [
        {
          "output_type": "execute_result",
          "data": {
            "text/plain": [
              "0.8445460537207964"
            ]
          },
          "metadata": {},
          "execution_count": 35
        }
      ]
    },
    {
      "cell_type": "code",
      "source": [
        "from sklearn import metrics"
      ],
      "metadata": {
        "id": "rMNuwmr1_kT3"
      },
      "execution_count": null,
      "outputs": []
    },
    {
      "cell_type": "code",
      "source": [
        "pr_mea=metrics.mean_absolute_error(pr_y_test,lr_prd)\n",
        "pr_mea"
      ],
      "metadata": {
        "colab": {
          "base_uri": "https://localhost:8080/"
        },
        "id": "xjXGFszm_km6",
        "outputId": "3f781284-4d68-4e2c-81ca-3f95a498a8a5"
      },
      "execution_count": null,
      "outputs": [
        {
          "output_type": "execute_result",
          "data": {
            "text/plain": [
              "20766.47709692545"
            ]
          },
          "metadata": {},
          "execution_count": 37
        }
      ]
    },
    {
      "cell_type": "code",
      "source": [
        "pr_mse=metrics.mean_squared_error(pr_y_test,lr_prd)\n",
        "pr_mse"
      ],
      "metadata": {
        "colab": {
          "base_uri": "https://localhost:8080/"
        },
        "id": "45oeFbu5_k-V",
        "outputId": "b0ede15c-ba49-4607-cdd5-04f608fc4aa2"
      },
      "execution_count": null,
      "outputs": [
        {
          "output_type": "execute_result",
          "data": {
            "text/plain": [
              "912638835.2057465"
            ]
          },
          "metadata": {},
          "execution_count": 38
        }
      ]
    },
    {
      "cell_type": "code",
      "source": [
        "pr_rmse=np.sqrt(pr_mse)\n",
        "pr_rmse"
      ],
      "metadata": {
        "colab": {
          "base_uri": "https://localhost:8080/"
        },
        "id": "BXKUKl92_lS6",
        "outputId": "c4435c7a-9c95-46e1-8198-7e7f6b4c5de6"
      },
      "execution_count": null,
      "outputs": [
        {
          "output_type": "execute_result",
          "data": {
            "text/plain": [
              "30209.912863259742"
            ]
          },
          "metadata": {},
          "execution_count": 39
        }
      ]
    },
    {
      "cell_type": "code",
      "source": [
        "error=pr_y_test-lr_prd\n",
        "error"
      ],
      "metadata": {
        "colab": {
          "base_uri": "https://localhost:8080/"
        },
        "id": "j1zapP8yEyPh",
        "outputId": "385dec94-fa21-4a57-fee9-36584aaf4adb"
      },
      "execution_count": null,
      "outputs": [
        {
          "output_type": "execute_result",
          "data": {
            "text/plain": [
              "1419    -5074.376429\n",
              "494    -23773.038505\n",
              "1411    -3195.908941\n",
              "569     -2523.993568\n",
              "486      6485.268477\n",
              "            ...     \n",
              "1281   -31035.020026\n",
              "879      5383.397852\n",
              "546     38065.690713\n",
              "974    -26048.145297\n",
              "568     29321.664751\n",
              "Name: Sale_Price, Length: 146, dtype: float64"
            ]
          },
          "metadata": {},
          "execution_count": 40
        }
      ]
    },
    {
      "cell_type": "code",
      "source": [
        "error_abs=np.absolute(error)#(inverse metrics)\n",
        "error_abs"
      ],
      "metadata": {
        "colab": {
          "base_uri": "https://localhost:8080/"
        },
        "id": "QqPTR2v7EyaT",
        "outputId": "b9804b33-d27e-4a89-c0ab-3cb396faf7bf"
      },
      "execution_count": null,
      "outputs": [
        {
          "output_type": "execute_result",
          "data": {
            "text/plain": [
              "1419     5074.376429\n",
              "494     23773.038505\n",
              "1411     3195.908941\n",
              "569      2523.993568\n",
              "486      6485.268477\n",
              "            ...     \n",
              "1281    31035.020026\n",
              "879      5383.397852\n",
              "546     38065.690713\n",
              "974     26048.145297\n",
              "568     29321.664751\n",
              "Name: Sale_Price, Length: 146, dtype: float64"
            ]
          },
          "metadata": {},
          "execution_count": 41
        }
      ]
    },
    {
      "cell_type": "code",
      "source": [
        "pr_mape=np.mean(error_abs/pr_y_test)*100\n",
        "pr_mape"
      ],
      "metadata": {
        "colab": {
          "base_uri": "https://localhost:8080/"
        },
        "id": "sp3B4LUcEyeF",
        "outputId": "747860a3-29c4-4477-9474-dc11e23f3c89"
      },
      "execution_count": null,
      "outputs": [
        {
          "output_type": "execute_result",
          "data": {
            "text/plain": [
              "12.957952781132551"
            ]
          },
          "metadata": {},
          "execution_count": 42
        }
      ]
    },
    {
      "cell_type": "code",
      "source": [
        "pr_acc1=100-pr_mape\n",
        "pr_acc1"
      ],
      "metadata": {
        "colab": {
          "base_uri": "https://localhost:8080/"
        },
        "id": "Vn7_MtDjEytN",
        "outputId": "19f96962-d246-40a1-cac0-1926921f50e3"
      },
      "execution_count": null,
      "outputs": [
        {
          "output_type": "execute_result",
          "data": {
            "text/plain": [
              "87.04204721886745"
            ]
          },
          "metadata": {},
          "execution_count": 43
        }
      ]
    },
    {
      "cell_type": "code",
      "source": [
        "plt.scatter(pr_y_test,lr_prd)"
      ],
      "metadata": {
        "colab": {
          "base_uri": "https://localhost:8080/",
          "height": 282
        },
        "id": "m0Y132SRFjqB",
        "outputId": "b3fb0467-937b-44a4-e9a9-d2055b833c77"
      },
      "execution_count": null,
      "outputs": [
        {
          "output_type": "execute_result",
          "data": {
            "text/plain": [
              "<matplotlib.collections.PathCollection at 0x7f72099c8d50>"
            ]
          },
          "metadata": {},
          "execution_count": 44
        },
        {
          "output_type": "display_data",
          "data": {
            "text/plain": [
              "<Figure size 432x288 with 1 Axes>"
            ],
            "image/png": "[encoded data removed]"
          },
          "metadata": {
            "needs_background": "light"
          }
        }
      ]
    },
    {
      "cell_type": "code",
      "source": [
        "sns.distplot(pr_y_test-lr_prd)"
      ],
      "metadata": {
        "colab": {
          "base_uri": "https://localhost:8080/",
          "height": 363
        },
        "id": "tayeTXg4FkLM",
        "outputId": "0a06ab25-4cd3-4101-e71d-1bb9b0530d91"
      },
      "execution_count": null,
      "outputs": [
        {
          "output_type": "stream",
          "name": "stderr",
          "text": [
            "/usr/local/lib/python3.7/dist-packages/seaborn/distributions.py:2619: FutureWarning: `distplot` is a deprecated function and will be removed in a future version. Please adapt your code to use either `displot` (a figure-level function with similar flexibility) or `histplot` (an axes-level function for histograms).\n",
            "  warnings.warn(msg, FutureWarning)\n"
          ]
        },
        {
          "output_type": "execute_result",
          "data": {
            "text/plain": [
              "<matplotlib.axes._subplots.AxesSubplot at 0x7f72094b5ad0>"
            ]
          },
          "metadata": {},
          "execution_count": 45
        },
        {
          "output_type": "display_data",
          "data": {
            "text/plain": [
              "<Figure size 432x288 with 1 Axes>"
            ],
            "image/png": "[encoded data removed]"
          },
          "metadata": {
            "needs_background": "light"
          }
        }
      ]
    },
    {
      "cell_type": "code",
      "source": [
        "from sklearn.linear_model import Lasso\n",
        "lo=Lasso()"
      ],
      "metadata": {
        "id": "U-McoCCaFkRq"
      },
      "execution_count": null,
      "outputs": []
    },
    {
      "cell_type": "code",
      "source": [
        "lo.fit(pr_x_train,pr_y_train)"
      ],
      "metadata": {
        "colab": {
          "base_uri": "https://localhost:8080/"
        },
        "id": "aRsbFrcnhbLJ",
        "outputId": "554ab23e-0f30-46b2-b497-cc80c6ef94dc"
      },
      "execution_count": null,
      "outputs": [
        {
          "output_type": "execute_result",
          "data": {
            "text/plain": [
              "Lasso()"
            ]
          },
          "metadata": {},
          "execution_count": 47
        }
      ]
    },
    {
      "cell_type": "code",
      "source": [
        "lo_p=lo.predict(pr_x_test)\n",
        "lo_p"
      ],
      "metadata": {
        "colab": {
          "base_uri": "https://localhost:8080/"
        },
        "id": "ilhiLHwjiQT2",
        "outputId": "e6964db4-1046-4afc-cd4e-57c1cb57c2cf"
      },
      "execution_count": null,
      "outputs": [
        {
          "output_type": "execute_result",
          "data": {
            "text/plain": [
              "array([228079.28834686, 115057.15124316, 143249.07889827, 138483.94785115,\n",
              "       149515.6469039 ,  97064.64747653, 170296.56102828, 193113.22845708,\n",
              "        66817.14923469,  98590.24336583, 111557.97639701, 331868.52823352,\n",
              "        89826.21774419, 212760.95227877, 293566.22309184, 182232.17921563,\n",
              "       167367.14605739, 360034.55780003, 227754.09335024, 191431.12410664,\n",
              "       386562.63079008,  62897.85065804, 128301.07521759, 199514.44897552,\n",
              "       181036.13954158, 201717.24585982, 152140.4198549 , 271693.23178618,\n",
              "        39329.67747354, 322503.6603237 , 110855.32473669, 151310.27431392,\n",
              "       149504.59959909, 146749.64979016, 234739.0428752 , 296401.22342512,\n",
              "       128614.52072475, 188222.14397081,  95549.71052016, 116441.17353255,\n",
              "        92463.18172524, 148883.36183095, 222020.44713318,  75248.43700802,\n",
              "       125384.1302441 , 207780.28113728, 207047.35128522, 194294.11145468,\n",
              "       155423.31718036, 274399.79371513, 296371.67461496, 169902.29959354,\n",
              "        69333.77167057,  77152.63094503, 136294.49208345, 147793.2750216 ,\n",
              "       239994.62515583, 235480.61533543, 339337.05774717, 162489.13607785,\n",
              "       232598.52120719, 151757.31415513, 186775.47138543, 286324.70002577,\n",
              "       142672.63267821, 149004.19819097,  95160.46536804, 232083.92812648,\n",
              "        69837.99677384, 165602.15368814, 126527.77897691, 181857.47514389,\n",
              "       153192.68413218, 116698.32816243, 126653.12260129, 127085.04921064,\n",
              "       318608.65356672, 170514.19829113, 335862.45518246, 176995.0117085 ,\n",
              "       220332.96882424,  86850.38668429, 215563.50145568, 279710.38497965,\n",
              "       410582.33736237, 153189.50193723, 281285.74126314, 239084.74405131,\n",
              "       245567.17898677, 202357.17448583, 178552.61781599, 109521.82939468,\n",
              "       165820.5645411 , 122111.24342416, 156945.28131442, 116430.90105258,\n",
              "       111461.08335262, 204262.92340695, 114590.27675557, 159441.9397371 ,\n",
              "       193960.58967213, 187728.52408738, 214213.40340665, 226859.47470741,\n",
              "       262185.80247619, 178581.30230715, 182190.409462  , 288375.53216229,\n",
              "        94105.39127943, 251634.51411274,  80539.87496911, 157686.96247966,\n",
              "       181911.65821879, 166911.96742058, 137796.79036645, 169780.07259585,\n",
              "       131430.72501894, 207886.2617605 , 155825.03950958, 253756.9789022 ,\n",
              "       182604.01671494, 166550.9519978 , 146373.86522837, 233254.19495082,\n",
              "       148267.24621369, 235440.50824807,  96629.62338543,  77055.65929776,\n",
              "       158230.67113454,  85829.06793863, 129444.6974977 , 125464.52729171,\n",
              "       124194.39630759,  47989.96183915, 193272.98826279,  93235.16852997,\n",
              "       255283.87913746, 177171.97375694, 117026.92547258,  97953.05755277,\n",
              "       225970.77293194, 211021.24804154, 131130.63784082, 171930.62089759,\n",
              "       193573.7548209 , 287321.73673573])"
            ]
          },
          "metadata": {},
          "execution_count": 48
        }
      ]
    },
    {
      "cell_type": "code",
      "source": [
        "lo.coef_"
      ],
      "metadata": {
        "colab": {
          "base_uri": "https://localhost:8080/"
        },
        "id": "ktCPSOafiQeO",
        "outputId": "982f9d09-2e2b-4600-dcc4-8e9d88e4cb90"
      },
      "execution_count": null,
      "outputs": [
        {
          "output_type": "execute_result",
          "data": {
            "text/plain": [
              "array([-8.99727834e+02,  4.97491562e+01,  2.36646756e-01,  2.89261858e+04,\n",
              "       -1.34630986e+03,  4.15076387e+03, -3.95817956e+04,  5.28402414e+01,\n",
              "        8.09232424e+03,  4.43028306e+02, -9.74490663e+02, -8.30145580e+03,\n",
              "       -4.63387885e+03, -2.15526689e+03,  1.16256392e+04,  5.46981668e+03,\n",
              "        2.48087783e+02,  6.49826263e+01,  2.37962814e+03,  2.88649512e+04,\n",
              "       -3.66527565e+02, -2.04675746e+02,  2.95832418e+03,  4.78427007e+01,\n",
              "       -7.02307573e+03,  4.79435465e+02,  5.09244784e+02, -9.35590835e+03,\n",
              "        2.48769441e+03, -3.55409740e+03, -9.88119690e+02,  1.71876535e+01,\n",
              "        1.53686119e+03,  2.40484971e+01,  7.20680163e+00,  4.36322289e+00,\n",
              "       -2.58972249e+03, -8.37687387e+02,  1.20047737e+03, -4.98766979e+02,\n",
              "        3.25568387e+01,  3.99395071e+01, -2.81248805e+00,  4.77836123e+00,\n",
              "        4.60250580e+03, -6.32027154e+02,  3.94378371e+03, -1.59799944e+03,\n",
              "       -4.72722214e+03, -1.52696974e+04, -7.53984155e+03,  3.78114135e+03,\n",
              "        2.07736666e+03,  8.40541680e+03, -1.84333771e+03,  3.51583023e+02,\n",
              "       -7.36934463e+01, -1.69429226e+03,  1.19193316e+04,  1.49588534e+00,\n",
              "        5.85130337e+02, -2.01151677e+03,  2.17809354e+03, -2.44974771e+00,\n",
              "        1.08808789e+01,  2.04972343e+01,  2.48277180e+01,  2.80333628e+01,\n",
              "       -9.93443423e+00, -3.69219654e-01, -2.55605128e+02, -1.01730037e+03,\n",
              "       -7.31580840e+02,  2.43621617e+03])"
            ]
          },
          "metadata": {},
          "execution_count": 49
        }
      ]
    },
    {
      "cell_type": "code",
      "source": [
        "lo_r2=lo.score(pr_x_train,pr_y_train)\n",
        "lo_r2"
      ],
      "metadata": {
        "colab": {
          "base_uri": "https://localhost:8080/"
        },
        "id": "-FZfNO_riQlP",
        "outputId": "43b35fda-d596-40a3-ee1b-6f7142a89c1b"
      },
      "execution_count": null,
      "outputs": [
        {
          "output_type": "execute_result",
          "data": {
            "text/plain": [
              "0.8533137197069085"
            ]
          },
          "metadata": {},
          "execution_count": 50
        }
      ]
    },
    {
      "cell_type": "code",
      "source": [
        "lo_adj_R2=1-(((1-lo_r2)*(1313-74))/(1313-74-1))\n",
        "lo_adj_R2"
      ],
      "metadata": {
        "colab": {
          "base_uri": "https://localhost:8080/"
        },
        "id": "TWC67SFUiQt0",
        "outputId": "8e355819-3652-41dc-bb15-de734c8219fb"
      },
      "execution_count": null,
      "outputs": [
        {
          "output_type": "execute_result",
          "data": {
            "text/plain": [
              "0.853195233212326"
            ]
          },
          "metadata": {},
          "execution_count": 51
        }
      ]
    },
    {
      "cell_type": "code",
      "source": [
        "df1=pd.DataFrame({\"Importance\":list(lo.coef_),\"columns\":list(pr_x)})\n",
        "df1"
      ],
      "metadata": {
        "colab": {
          "base_uri": "https://localhost:8080/",
          "height": 424
        },
        "id": "hJCjwqvWiQ15",
        "outputId": "1d3d55bd-8973-4314-dad0-b6ccadbd8f6a"
      },
      "execution_count": null,
      "outputs": [
        {
          "output_type": "execute_result",
          "data": {
            "text/plain": [
              "      Importance              columns\n",
              "0    -899.727834         Zoning_Class\n",
              "1      49.749156           Lot_Extent\n",
              "2       0.236647             Lot_Size\n",
              "3   28926.185787            Road_Type\n",
              "4   -1346.309864       Property_Shape\n",
              "..           ...                  ...\n",
              "69     -0.369220  Miscellaneous_Value\n",
              "70   -255.605128           Month_Sold\n",
              "71  -1017.300368            Year_Sold\n",
              "72   -731.580840            Sale_Type\n",
              "73   2436.216167       Sale_Condition\n",
              "\n",
              "[74 rows x 2 columns]"
            ],
            "text/html": [
              "\n",
              "  <div id=\"df-ced33fd6-f0c3-47e2-826a-e752f1e35ab4\">\n",
              "    <div class=\"colab-df-container\">\n",
              "      <div>\n",
              "<style scoped>\n",
              "    .dataframe tbody tr th:only-of-type {\n",
              "        vertical-align: middle;\n",
              "    }\n",
              "\n",
              "    .dataframe tbody tr th {\n",
              "        vertical-align: top;\n",
              "    }\n",
              "\n",
              "    .dataframe thead th {\n",
              "        text-align: right;\n",
              "    }\n",
              "</style>\n",
              "<table border=\"1\" class=\"dataframe\">\n",
              "  <thead>\n",
              "    <tr style=\"text-align: right;\">\n",
              "      <th></th>\n",
              "      <th>Importance</th>\n",
              "      <th>columns</th>\n",
              "    </tr>\n",
              "  </thead>\n",
              "  <tbody>\n",
              "    <tr>\n",
              "      <th>0</th>\n",
              "      <td>-899.727834</td>\n",
              "      <td>Zoning_Class</td>\n",
              "    </tr>\n",
              "    <tr>\n",
              "      <th>1</th>\n",
              "      <td>49.749156</td>\n",
              "      <td>Lot_Extent</td>\n",
              "    </tr>\n",
              "    <tr>\n",
              "      <th>2</th>\n",
              "      <td>0.236647</td>\n",
              "      <td>Lot_Size</td>\n",
              "    </tr>\n",
              "    <tr>\n",
              "      <th>3</th>\n",
              "      <td>28926.185787</td>\n",
              "      <td>Road_Type</td>\n",
              "    </tr>\n",
              "    <tr>\n",
              "      <th>4</th>\n",
              "      <td>-1346.309864</td>\n",
              "      <td>Property_Shape</td>\n",
              "    </tr>\n",
              "    <tr>\n",
              "      <th>...</th>\n",
              "      <td>...</td>\n",
              "      <td>...</td>\n",
              "    </tr>\n",
              "    <tr>\n",
              "      <th>69</th>\n",
              "      <td>-0.369220</td>\n",
              "      <td>Miscellaneous_Value</td>\n",
              "    </tr>\n",
              "    <tr>\n",
              "      <th>70</th>\n",
              "      <td>-255.605128</td>\n",
              "      <td>Month_Sold</td>\n",
              "    </tr>\n",
              "    <tr>\n",
              "      <th>71</th>\n",
              "      <td>-1017.300368</td>\n",
              "      <td>Year_Sold</td>\n",
              "    </tr>\n",
              "    <tr>\n",
              "      <th>72</th>\n",
              "      <td>-731.580840</td>\n",
              "      <td>Sale_Type</td>\n",
              "    </tr>\n",
              "    <tr>\n",
              "      <th>73</th>\n",
              "      <td>2436.216167</td>\n",
              "      <td>Sale_Condition</td>\n",
              "    </tr>\n",
              "  </tbody>\n",
              "</table>\n",
              "<p>74 rows × 2 columns</p>\n",
              "</div>\n",
              "      <button class=\"colab-df-convert\" onclick=\"convertToInteractive('df-ced33fd6-f0c3-47e2-826a-e752f1e35ab4')\"\n",
              "              title=\"Convert this dataframe to an interactive table.\"\n",
              "              style=\"display:none;\">\n",
              "        \n",
              "  <svg xmlns=\"http://www.w3.org/2000/svg\" height=\"24px\"viewBox=\"0 0 24 24\"\n",
              "       width=\"24px\">\n",
              "    <path d=\"M0 0h24v24H0V0z\" fill=\"none\"/>\n",
              "    <path d=\"M18.56 5.44l.94 2.06.94-2.06 2.06-.94-2.06-.94-.94-2.06-.94 2.06-2.06.94zm-11 1L8.5 8.5l.94-2.06 2.06-.94-2.06-.94L8.5 2.5l-.94 2.06-2.06.94zm10 10l.94 2.06.94-2.06 2.06-.94-2.06-.94-.94-2.06-.94 2.06-2.06.94z\"/><path d=\"M17.41 7.96l-1.37-1.37c-.4-.4-.92-.59-1.43-.59-.52 0-1.04.2-1.43.59L10.3 9.45l-7.72 7.72c-.78.78-.78 2.05 0 2.83L4 21.41c.39.39.9.59 1.41.59.51 0 1.02-.2 1.41-.59l7.78-7.78 2.81-2.81c.8-.78.8-2.07 0-2.86zM5.41 20L4 18.59l7.72-7.72 1.47 1.35L5.41 20z\"/>\n",
              "  </svg>\n",
              "      </button>\n",
              "      \n",
              "  <style>\n",
              "    .colab-df-container {\n",
              "      display:flex;\n",
              "      flex-wrap:wrap;\n",
              "      gap: 12px;\n",
              "    }\n",
              "\n",
              "    .colab-df-convert {\n",
              "      background-color: #E8F0FE;\n",
              "      border: none;\n",
              "      border-radius: 50%;\n",
              "      cursor: pointer;\n",
              "      display: none;\n",
              "      fill: #1967D2;\n",
              "      height: 32px;\n",
              "      padding: 0 0 0 0;\n",
              "      width: 32px;\n",
              "    }\n",
              "\n",
              "    .colab-df-convert:hover {\n",
              "      background-color: #E2EBFA;\n",
              "      box-shadow: 0px 1px 2px rgba(60, 64, 67, 0.3), 0px 1px 3px 1px rgba(60, 64, 67, 0.15);\n",
              "      fill: #174EA6;\n",
              "    }\n",
              "\n",
              "    [theme=dark] .colab-df-convert {\n",
              "      background-color: #3B4455;\n",
              "      fill: #D2E3FC;\n",
              "    }\n",
              "\n",
              "    [theme=dark] .colab-df-convert:hover {\n",
              "      background-color: #434B5C;\n",
              "      box-shadow: 0px 1px 3px 1px rgba(0, 0, 0, 0.15);\n",
              "      filter: drop-shadow(0px 1px 2px rgba(0, 0, 0, 0.3));\n",
              "      fill: #FFFFFF;\n",
              "    }\n",
              "  </style>\n",
              "\n",
              "      <script>\n",
              "        const buttonEl =\n",
              "          document.querySelector('#df-ced33fd6-f0c3-47e2-826a-e752f1e35ab4 button.colab-df-convert');\n",
              "        buttonEl.style.display =\n",
              "          google.colab.kernel.accessAllowed ? 'block' : 'none';\n",
              "\n",
              "        async function convertToInteractive(key) {\n",
              "          const element = document.querySelector('#df-ced33fd6-f0c3-47e2-826a-e752f1e35ab4');\n",
              "          const dataTable =\n",
              "            await google.colab.kernel.invokeFunction('convertToInteractive',\n",
              "                                                     [key], {});\n",
              "          if (!dataTable) return;\n",
              "\n",
              "          const docLinkHtml = 'Like what you see? Visit the ' +\n",
              "            '<a target=\"_blank\" href=https://colab.research.google.com/notebooks/data_table.ipynb>data table notebook</a>'\n",
              "            + ' to learn more about interactive tables.';\n",
              "          element.innerHTML = '';\n",
              "          dataTable['output_type'] = 'display_data';\n",
              "          await google.colab.output.renderOutput(dataTable, element);\n",
              "          const docLink = document.createElement('div');\n",
              "          docLink.innerHTML = docLinkHtml;\n",
              "          element.appendChild(docLink);\n",
              "        }\n",
              "      </script>\n",
              "    </div>\n",
              "  </div>\n",
              "  "
            ]
          },
          "metadata": {},
          "execution_count": 52
        }
      ]
    },
    {
      "cell_type": "code",
      "source": [
        "new=pd.DataFrame(ppt,columns=[\"Lot_Extent\",\"Lot_Size\",\"Road_Type\",\"Condition1\",\"Air_Conditioning\",\"Garage\",\"Kitchen_Quality\",\"Open_Lobby_Area\",\"Sale_Price\"])\n",
        "new"
      ],
      "metadata": {
        "colab": {
          "base_uri": "https://localhost:8080/",
          "height": 424
        },
        "id": "MEMEECYpiQ8w",
        "outputId": "4a2bf65e-0215-46ca-ab1e-ed13568e64e0"
      },
      "execution_count": null,
      "outputs": [
        {
          "output_type": "execute_result",
          "data": {
            "text/plain": [
              "      Lot_Extent  Lot_Size  Road_Type  Condition1  Air_Conditioning  Garage  \\\n",
              "0             36      8450          1           2                 1       2   \n",
              "1             52      9600          1           1                 1       2   \n",
              "2             39     11250          1           2                 1       2   \n",
              "3             31      9550          1           2                 1       6   \n",
              "4             56     14260          1           2                 1       2   \n",
              "...          ...       ...        ...         ...               ...     ...   \n",
              "1454          33      7500          1           2                 1       2   \n",
              "1455          33      7917          1           2                 1       2   \n",
              "1456          57     13175          1           2                 1       2   \n",
              "1457          37      9042          1           2                 1       2   \n",
              "1458          39      9717          1           2                 1       2   \n",
              "\n",
              "      Kitchen_Quality  Open_Lobby_Area  Sale_Price  \n",
              "0                   2        69.596115      208500  \n",
              "1                   3        74.716033      181500  \n",
              "2                   2        32.085268      223500  \n",
              "3                   2        40.181415      140000  \n",
              "4                   2        20.755323      250000  \n",
              "...               ...              ...         ...  \n",
              "1454                2        -9.267967      185000  \n",
              "1455                3       113.043436      175000  \n",
              "1456                3       221.514480      210000  \n",
              "1457                2       110.888690      266500  \n",
              "1458                2       -33.654857      142125  \n",
              "\n",
              "[1459 rows x 9 columns]"
            ],
            "text/html": [
              "\n",
              "  <div id=\"df-3aa51d26-638b-4673-8a49-a95e8fd9dfeb\">\n",
              "    <div class=\"colab-df-container\">\n",
              "      <div>\n",
              "<style scoped>\n",
              "    .dataframe tbody tr th:only-of-type {\n",
              "        vertical-align: middle;\n",
              "    }\n",
              "\n",
              "    .dataframe tbody tr th {\n",
              "        vertical-align: top;\n",
              "    }\n",
              "\n",
              "    .dataframe thead th {\n",
              "        text-align: right;\n",
              "    }\n",
              "</style>\n",
              "<table border=\"1\" class=\"dataframe\">\n",
              "  <thead>\n",
              "    <tr style=\"text-align: right;\">\n",
              "      <th></th>\n",
              "      <th>Lot_Extent</th>\n",
              "      <th>Lot_Size</th>\n",
              "      <th>Road_Type</th>\n",
              "      <th>Condition1</th>\n",
              "      <th>Air_Conditioning</th>\n",
              "      <th>Garage</th>\n",
              "      <th>Kitchen_Quality</th>\n",
              "      <th>Open_Lobby_Area</th>\n",
              "      <th>Sale_Price</th>\n",
              "    </tr>\n",
              "  </thead>\n",
              "  <tbody>\n",
              "    <tr>\n",
              "      <th>0</th>\n",
              "      <td>36</td>\n",
              "      <td>8450</td>\n",
              "      <td>1</td>\n",
              "      <td>2</td>\n",
              "      <td>1</td>\n",
              "      <td>2</td>\n",
              "      <td>2</td>\n",
              "      <td>69.596115</td>\n",
              "      <td>208500</td>\n",
              "    </tr>\n",
              "    <tr>\n",
              "      <th>1</th>\n",
              "      <td>52</td>\n",
              "      <td>9600</td>\n",
              "      <td>1</td>\n",
              "      <td>1</td>\n",
              "      <td>1</td>\n",
              "      <td>2</td>\n",
              "      <td>3</td>\n",
              "      <td>74.716033</td>\n",
              "      <td>181500</td>\n",
              "    </tr>\n",
              "    <tr>\n",
              "      <th>2</th>\n",
              "      <td>39</td>\n",
              "      <td>11250</td>\n",
              "      <td>1</td>\n",
              "      <td>2</td>\n",
              "      <td>1</td>\n",
              "      <td>2</td>\n",
              "      <td>2</td>\n",
              "      <td>32.085268</td>\n",
              "      <td>223500</td>\n",
              "    </tr>\n",
              "    <tr>\n",
              "      <th>3</th>\n",
              "      <td>31</td>\n",
              "      <td>9550</td>\n",
              "      <td>1</td>\n",
              "      <td>2</td>\n",
              "      <td>1</td>\n",
              "      <td>6</td>\n",
              "      <td>2</td>\n",
              "      <td>40.181415</td>\n",
              "      <td>140000</td>\n",
              "    </tr>\n",
              "    <tr>\n",
              "      <th>4</th>\n",
              "      <td>56</td>\n",
              "      <td>14260</td>\n",
              "      <td>1</td>\n",
              "      <td>2</td>\n",
              "      <td>1</td>\n",
              "      <td>2</td>\n",
              "      <td>2</td>\n",
              "      <td>20.755323</td>\n",
              "      <td>250000</td>\n",
              "    </tr>\n",
              "    <tr>\n",
              "      <th>...</th>\n",
              "      <td>...</td>\n",
              "      <td>...</td>\n",
              "      <td>...</td>\n",
              "      <td>...</td>\n",
              "      <td>...</td>\n",
              "      <td>...</td>\n",
              "      <td>...</td>\n",
              "      <td>...</td>\n",
              "      <td>...</td>\n",
              "    </tr>\n",
              "    <tr>\n",
              "      <th>1454</th>\n",
              "      <td>33</td>\n",
              "      <td>7500</td>\n",
              "      <td>1</td>\n",
              "      <td>2</td>\n",
              "      <td>1</td>\n",
              "      <td>2</td>\n",
              "      <td>2</td>\n",
              "      <td>-9.267967</td>\n",
              "      <td>185000</td>\n",
              "    </tr>\n",
              "    <tr>\n",
              "      <th>1455</th>\n",
              "      <td>33</td>\n",
              "      <td>7917</td>\n",
              "      <td>1</td>\n",
              "      <td>2</td>\n",
              "      <td>1</td>\n",
              "      <td>2</td>\n",
              "      <td>3</td>\n",
              "      <td>113.043436</td>\n",
              "      <td>175000</td>\n",
              "    </tr>\n",
              "    <tr>\n",
              "      <th>1456</th>\n",
              "      <td>57</td>\n",
              "      <td>13175</td>\n",
              "      <td>1</td>\n",
              "      <td>2</td>\n",
              "      <td>1</td>\n",
              "      <td>2</td>\n",
              "      <td>3</td>\n",
              "      <td>221.514480</td>\n",
              "      <td>210000</td>\n",
              "    </tr>\n",
              "    <tr>\n",
              "      <th>1457</th>\n",
              "      <td>37</td>\n",
              "      <td>9042</td>\n",
              "      <td>1</td>\n",
              "      <td>2</td>\n",
              "      <td>1</td>\n",
              "      <td>2</td>\n",
              "      <td>2</td>\n",
              "      <td>110.888690</td>\n",
              "      <td>266500</td>\n",
              "    </tr>\n",
              "    <tr>\n",
              "      <th>1458</th>\n",
              "      <td>39</td>\n",
              "      <td>9717</td>\n",
              "      <td>1</td>\n",
              "      <td>2</td>\n",
              "      <td>1</td>\n",
              "      <td>2</td>\n",
              "      <td>2</td>\n",
              "      <td>-33.654857</td>\n",
              "      <td>142125</td>\n",
              "    </tr>\n",
              "  </tbody>\n",
              "</table>\n",
              "<p>1459 rows × 9 columns</p>\n",
              "</div>\n",
              "      <button class=\"colab-df-convert\" onclick=\"convertToInteractive('df-3aa51d26-638b-4673-8a49-a95e8fd9dfeb')\"\n",
              "              title=\"Convert this dataframe to an interactive table.\"\n",
              "              style=\"display:none;\">\n",
              "        \n",
              "  <svg xmlns=\"http://www.w3.org/2000/svg\" height=\"24px\"viewBox=\"0 0 24 24\"\n",
              "       width=\"24px\">\n",
              "    <path d=\"M0 0h24v24H0V0z\" fill=\"none\"/>\n",
              "    <path d=\"M18.56 5.44l.94 2.06.94-2.06 2.06-.94-2.06-.94-.94-2.06-.94 2.06-2.06.94zm-11 1L8.5 8.5l.94-2.06 2.06-.94-2.06-.94L8.5 2.5l-.94 2.06-2.06.94zm10 10l.94 2.06.94-2.06 2.06-.94-2.06-.94-.94-2.06-.94 2.06-2.06.94z\"/><path d=\"M17.41 7.96l-1.37-1.37c-.4-.4-.92-.59-1.43-.59-.52 0-1.04.2-1.43.59L10.3 9.45l-7.72 7.72c-.78.78-.78 2.05 0 2.83L4 21.41c.39.39.9.59 1.41.59.51 0 1.02-.2 1.41-.59l7.78-7.78 2.81-2.81c.8-.78.8-2.07 0-2.86zM5.41 20L4 18.59l7.72-7.72 1.47 1.35L5.41 20z\"/>\n",
              "  </svg>\n",
              "      </button>\n",
              "      \n",
              "  <style>\n",
              "    .colab-df-container {\n",
              "      display:flex;\n",
              "      flex-wrap:wrap;\n",
              "      gap: 12px;\n",
              "    }\n",
              "\n",
              "    .colab-df-convert {\n",
              "      background-color: #E8F0FE;\n",
              "      border: none;\n",
              "      border-radius: 50%;\n",
              "      cursor: pointer;\n",
              "      display: none;\n",
              "      fill: #1967D2;\n",
              "      height: 32px;\n",
              "      padding: 0 0 0 0;\n",
              "      width: 32px;\n",
              "    }\n",
              "\n",
              "    .colab-df-convert:hover {\n",
              "      background-color: #E2EBFA;\n",
              "      box-shadow: 0px 1px 2px rgba(60, 64, 67, 0.3), 0px 1px 3px 1px rgba(60, 64, 67, 0.15);\n",
              "      fill: #174EA6;\n",
              "    }\n",
              "\n",
              "    [theme=dark] .colab-df-convert {\n",
              "      background-color: #3B4455;\n",
              "      fill: #D2E3FC;\n",
              "    }\n",
              "\n",
              "    [theme=dark] .colab-df-convert:hover {\n",
              "      background-color: #434B5C;\n",
              "      box-shadow: 0px 1px 3px 1px rgba(0, 0, 0, 0.15);\n",
              "      filter: drop-shadow(0px 1px 2px rgba(0, 0, 0, 0.3));\n",
              "      fill: #FFFFFF;\n",
              "    }\n",
              "  </style>\n",
              "\n",
              "      <script>\n",
              "        const buttonEl =\n",
              "          document.querySelector('#df-3aa51d26-638b-4673-8a49-a95e8fd9dfeb button.colab-df-convert');\n",
              "        buttonEl.style.display =\n",
              "          google.colab.kernel.accessAllowed ? 'block' : 'none';\n",
              "\n",
              "        async function convertToInteractive(key) {\n",
              "          const element = document.querySelector('#df-3aa51d26-638b-4673-8a49-a95e8fd9dfeb');\n",
              "          const dataTable =\n",
              "            await google.colab.kernel.invokeFunction('convertToInteractive',\n",
              "                                                     [key], {});\n",
              "          if (!dataTable) return;\n",
              "\n",
              "          const docLinkHtml = 'Like what you see? Visit the ' +\n",
              "            '<a target=\"_blank\" href=https://colab.research.google.com/notebooks/data_table.ipynb>data table notebook</a>'\n",
              "            + ' to learn more about interactive tables.';\n",
              "          element.innerHTML = '';\n",
              "          dataTable['output_type'] = 'display_data';\n",
              "          await google.colab.output.renderOutput(dataTable, element);\n",
              "          const docLink = document.createElement('div');\n",
              "          docLink.innerHTML = docLinkHtml;\n",
              "          element.appendChild(docLink);\n",
              "        }\n",
              "      </script>\n",
              "    </div>\n",
              "  </div>\n",
              "  "
            ]
          },
          "metadata": {},
          "execution_count": 73
        }
      ]
    },
    {
      "cell_type": "code",
      "source": [
        "new_x=new.iloc[:,0:8]\n",
        "new_y=new.iloc[:,-1]"
      ],
      "metadata": {
        "id": "dgQbcpOtiRFQ"
      },
      "execution_count": null,
      "outputs": []
    },
    {
      "cell_type": "code",
      "source": [
        "new_x.shape,new_y.shape"
      ],
      "metadata": {
        "colab": {
          "base_uri": "https://localhost:8080/"
        },
        "id": "B1NXMubkiRJD",
        "outputId": "f2f49df5-dce5-4356-df42-1d07297a40ad"
      },
      "execution_count": null,
      "outputs": [
        {
          "output_type": "execute_result",
          "data": {
            "text/plain": [
              "((1459, 8), (1459,))"
            ]
          },
          "metadata": {},
          "execution_count": 75
        }
      ]
    },
    {
      "cell_type": "code",
      "source": [
        "new_x_train,new_x_test,new_y_train,new_y_test=train_test_split(new_x,new_y,test_size=0.1,random_state=101)"
      ],
      "metadata": {
        "id": "X68mJxdwiRMf"
      },
      "execution_count": null,
      "outputs": []
    },
    {
      "cell_type": "code",
      "source": [
        "new_x_train.shape,new_x_test.shape,new_y_train.shape,new_y_test.shape"
      ],
      "metadata": {
        "colab": {
          "base_uri": "https://localhost:8080/"
        },
        "id": "gWqR60UTiRPb",
        "outputId": "0f6bd8ee-2672-46cf-a180-cb8cdc6b9eb1"
      },
      "execution_count": null,
      "outputs": [
        {
          "output_type": "execute_result",
          "data": {
            "text/plain": [
              "((1313, 8), (146, 8), (1313,), (146,))"
            ]
          },
          "metadata": {},
          "execution_count": 77
        }
      ]
    },
    {
      "cell_type": "code",
      "source": [
        "lo.fit(new_x_train,new_y_train)"
      ],
      "metadata": {
        "colab": {
          "base_uri": "https://localhost:8080/"
        },
        "id": "2GYuEB-_l4zH",
        "outputId": "d5a962a5-e325-49b7-9461-cf5abe30ae4c"
      },
      "execution_count": null,
      "outputs": [
        {
          "output_type": "execute_result",
          "data": {
            "text/plain": [
              "Lasso()"
            ]
          },
          "metadata": {},
          "execution_count": 79
        }
      ]
    },
    {
      "cell_type": "code",
      "source": [
        "lo_p=lo.predict(new_x_test)\n",
        "lo_p"
      ],
      "metadata": {
        "colab": {
          "base_uri": "https://localhost:8080/"
        },
        "id": "Nb-OhgOkl5Su",
        "outputId": "ed9f2024-a965-4153-bff9-a9be9c90e94c"
      },
      "execution_count": null,
      "outputs": [
        {
          "output_type": "execute_result",
          "data": {
            "text/plain": [
              "array([150819.46993542, 129978.1834212 , 128815.14392685, 199582.35365045,\n",
              "       310767.89634478, 199152.22044459, 185666.55332786, 194421.0425525 ,\n",
              "       166517.69351145, 172200.43855254, 113293.92856322, 208174.10725067,\n",
              "       217478.46668406, 168225.7985276 ,  99503.65264088, 150851.37858847,\n",
              "       179671.35958146, 228271.38236627,  65934.96813263, 131217.51175196,\n",
              "       121955.73213041, 326468.69576129, 222142.11155095, 204589.2743089 ,\n",
              "       217328.02132287, 121031.39636698, 111149.83277688, 284607.19081935,\n",
              "       100221.23772269, 121637.28790455, 234345.10374941, 129049.90194294,\n",
              "       325850.57735739, 214436.18989202, 147515.13476928, 201574.09039921,\n",
              "       301657.61969581, 159886.68962857, 328172.74720098, 211117.36033015,\n",
              "       203215.87087851, 187776.32972876, 214901.46672487, 121141.65072058,\n",
              "       189717.94489341, 126973.64599283, 155446.13113166, 177141.45232493,\n",
              "       126781.56453973,  71571.86399925, 121017.99207652, 168818.1056547 ,\n",
              "       115424.00147745, 129830.05094639, 194846.6728053 , 120662.8595291 ,\n",
              "       135945.22907437, 120607.53252078, 170914.85165218, 125775.61236996,\n",
              "       256811.51630676, 151302.00986281, 122775.15559137, 178784.94351568,\n",
              "       212842.00200957, 220353.43880997, 223273.56237556, 185168.38654749,\n",
              "       166461.19656914, 124681.77957059, 199078.13067993, 137381.28373756,\n",
              "       218774.39281162, 170421.92697148,  82460.03755763, 350849.17308943,\n",
              "       168616.85810025, 152497.93624463, 209814.43280287,  84081.48307836,\n",
              "       143451.43744873, 211441.73862536, 181633.11805271, 183106.29562705,\n",
              "       157573.61408137, 233212.44097702, 328647.13296083, 111884.75639093,\n",
              "       175111.44297717, 167232.44404367,  97113.37080819, 245472.42012293,\n",
              "       165912.95586483, 157103.02327405, 120888.64841318, 165550.71740265,\n",
              "       161263.00630403, 298386.12343298, 125000.7960389 , 216334.5958729 ,\n",
              "       209269.3454131 , 189088.0713811 , 128974.69931464, 190416.06293301,\n",
              "        73013.03424008,  83419.55151308,  97790.0698761 , 318763.09115874,\n",
              "       206139.91887129, 185070.5396487 , 129855.99676378,  75781.93127731,\n",
              "       200150.16113736, 162513.193675  , 211087.11395431, 115577.10224226,\n",
              "       184090.26939072, 130626.25671051, 217947.41193464, 179631.82490796,\n",
              "       215677.10570181, 123959.51284778, 155392.96925393, 144331.5245689 ,\n",
              "       167600.09676567, 209551.4573408 , 144433.98752342, 142471.29367935,\n",
              "       161239.13852849, 225309.56158453, 155611.08121776, 177691.00614064,\n",
              "       337606.31955879, 290118.15691298, 121803.89285802, 123589.16493512,\n",
              "       179173.07959897, 134405.42570018, 174336.52196111, 187622.93039104,\n",
              "       312204.63953156, 181975.75114781, 241609.65632583,  99423.45309774,\n",
              "       311291.73269885, 224545.74741353])"
            ]
          },
          "metadata": {},
          "execution_count": 82
        }
      ]
    },
    {
      "cell_type": "code",
      "source": [
        "lo.coef_"
      ],
      "metadata": {
        "colab": {
          "base_uri": "https://localhost:8080/"
        },
        "id": "nBBdmvvIl5WZ",
        "outputId": "3ceaa87a-c380-448e-dfdf-95a8183bdbda"
      },
      "execution_count": null,
      "outputs": [
        {
          "output_type": "execute_result",
          "data": {
            "text/plain": [
              "array([ 7.24418136e+02,  1.31776490e+00,  7.64531838e+04,  5.67499487e+03,\n",
              "        4.96508173e+04, -7.54507825e+03, -4.85742068e+04, -1.77306016e+01])"
            ]
          },
          "metadata": {},
          "execution_count": 84
        }
      ]
    },
    {
      "cell_type": "code",
      "source": [
        "lo_r2=lo.score(new_x_train,new_y_train)\n",
        "lo_r2"
      ],
      "metadata": {
        "colab": {
          "base_uri": "https://localhost:8080/"
        },
        "id": "cUQtTkFm2bD4",
        "outputId": "e5f89ebb-37a3-4462-daf7-597ddf2aeb6a"
      },
      "execution_count": null,
      "outputs": [
        {
          "output_type": "execute_result",
          "data": {
            "text/plain": [
              "0.5127553327462311"
            ]
          },
          "metadata": {},
          "execution_count": 85
        }
      ]
    },
    {
      "cell_type": "code",
      "source": [
        "lo_adj_R2=1-(((1-lo_r2)*(1313-1))/(1313-8-1))\n",
        "lo_adj_R2"
      ],
      "metadata": {
        "colab": {
          "base_uri": "https://localhost:8080/"
        },
        "id": "Tc-RTsXm2bHr",
        "outputId": "94345b54-9d6d-4a77-814e-2d4800603720"
      },
      "execution_count": null,
      "outputs": [
        {
          "output_type": "execute_result",
          "data": {
            "text/plain": [
              "0.5097661016587847"
            ]
          },
          "metadata": {},
          "execution_count": 86
        }
      ]
    },
    {
      "cell_type": "code",
      "source": [
        "new_x.shape,new_y.shape"
      ],
      "metadata": {
        "colab": {
          "base_uri": "https://localhost:8080/"
        },
        "id": "8f0Teoqn2bRS",
        "outputId": "d1cca576-ebb3-4cd1-cd8f-aa755a8d5e84"
      },
      "execution_count": null,
      "outputs": [
        {
          "output_type": "execute_result",
          "data": {
            "text/plain": [
              "((1459, 8), (1459,))"
            ]
          },
          "metadata": {},
          "execution_count": 89
        }
      ]
    },
    {
      "cell_type": "code",
      "source": [
        "new_x_train,new_x_test,new_y_train,new_y_test=train_test_split(new_x,new_y,test_size=0.1,random_state=101)"
      ],
      "metadata": {
        "id": "MBc2gTwK2ba3"
      },
      "execution_count": null,
      "outputs": []
    },
    {
      "cell_type": "code",
      "source": [
        "new_x_train.shape,new_x_test.shape,new_y_train.shape,new_y_test.shape"
      ],
      "metadata": {
        "colab": {
          "base_uri": "https://localhost:8080/"
        },
        "id": "BdraZ-Y52bf4",
        "outputId": "d6e2465b-fcbd-4109-d562-2fda234c5ae2"
      },
      "execution_count": null,
      "outputs": [
        {
          "output_type": "execute_result",
          "data": {
            "text/plain": [
              "((1313, 8), (146, 8), (1313,), (146,))"
            ]
          },
          "metadata": {},
          "execution_count": 91
        }
      ]
    },
    {
      "cell_type": "code",
      "source": [
        "lr.fit(new_x_train,new_y_train)"
      ],
      "metadata": {
        "colab": {
          "base_uri": "https://localhost:8080/"
        },
        "id": "0pWXsFnQ2bkT",
        "outputId": "849d44e1-1388-4040-bc8b-0b14970da46d"
      },
      "execution_count": null,
      "outputs": [
        {
          "output_type": "execute_result",
          "data": {
            "text/plain": [
              "LinearRegression()"
            ]
          },
          "metadata": {},
          "execution_count": 93
        }
      ]
    },
    {
      "cell_type": "code",
      "source": [
        "n_p=lr.predict(new_x_test)\n",
        "n_p"
      ],
      "metadata": {
        "colab": {
          "base_uri": "https://localhost:8080/"
        },
        "id": "2LrsYf7u2bnf",
        "outputId": "1453592b-aa50-4551-bf58-8ee3d7a32ccd"
      },
      "execution_count": null,
      "outputs": [
        {
          "output_type": "execute_result",
          "data": {
            "text/plain": [
              "array([150824.03005979, 129980.30152826, 128816.75684425, 199594.99322373,\n",
              "       310772.169404  , 199165.89055611, 185667.62216381, 194422.10875413,\n",
              "       166520.62051891, 172201.09207418, 113291.27417584, 208174.38271016,\n",
              "       217480.67188561, 168227.70935226,  99505.41229093, 150853.25466986,\n",
              "       179672.22349034, 228272.86783048,  65923.01364028, 131220.05902966,\n",
              "       121957.5863366 , 326472.78381765, 222148.02462961, 204589.69506557,\n",
              "       217312.70564281, 121033.36472756, 111151.05529643, 284608.18386091,\n",
              "       100207.87207376, 121639.54360153, 234359.0212199 , 129051.73743448,\n",
              "       325852.82569365, 214437.51399127, 147511.26914283, 201574.52140553,\n",
              "       301659.46056325, 159886.30318497, 328175.41517261, 211118.94736202,\n",
              "       203216.03261828, 187776.4624646 , 214902.43924043, 121144.37120269,\n",
              "       189717.95691543, 126972.48481884, 155446.88304053, 177143.67410795,\n",
              "       126782.40970485,  71561.2273314 , 121015.69804188, 168817.40180908,\n",
              "       115425.38928883, 129829.6471399 , 194847.94912975, 120660.69820774,\n",
              "       135947.93569615, 120604.74910144, 170915.25860703, 125777.55546216,\n",
              "       256811.92677383, 151301.62962961, 122777.93408556, 178791.9431068 ,\n",
              "       212842.77883446, 220356.42967426, 223274.56600433, 185168.49264719,\n",
              "       166462.75605948, 124685.09315936, 199078.15493304, 137380.47807229,\n",
              "       218775.4300514 , 170422.38596426,  82449.54035983, 350884.26500158,\n",
              "       168616.43123254, 152495.74374184, 209814.48836938,  84071.80671035,\n",
              "       143453.3124513 , 211443.405839  , 181633.2964337 , 183109.66567097,\n",
              "       157572.66025561, 233214.23665582, 328650.86524002, 111881.94882311,\n",
              "       175110.94271112, 167232.64332243,  97114.47259935, 245474.07280291,\n",
              "       165913.76440116, 157101.68715433, 120891.07651104, 165551.90153057,\n",
              "       161264.66792187, 298388.16682208, 125003.39861387, 216335.00218094,\n",
              "       209272.56963444, 189089.59522459, 128974.5884037 , 190418.16852452,\n",
              "        72999.65178912,  83403.00442458,  97789.62558485, 318767.33496395,\n",
              "       206141.30981717, 185070.14913573, 129858.20598446,  75772.44736206,\n",
              "       200153.32314939, 162512.62263029, 211088.26668721, 115575.25608803,\n",
              "       184091.6292681 , 130628.91954361, 217950.2318276 , 179632.40742111,\n",
              "       215679.00678696, 123961.90344859, 155394.59551071, 144333.58056949,\n",
              "       167599.68158069, 209552.23611923, 144435.80325744, 142473.26652167,\n",
              "       161239.61149009, 225313.22664253, 155607.25237092, 177690.09815688,\n",
              "       337609.85947519, 290126.8321642 , 121801.67753666, 123591.53252525,\n",
              "       179177.98482161, 134407.91593469, 174337.07683563, 187623.56485243,\n",
              "       312207.34750814, 181980.28951981, 241624.86309344,  99423.75538582,\n",
              "       311295.18396242, 224546.6148719 ])"
            ]
          },
          "metadata": {},
          "execution_count": 95
        }
      ]
    },
    {
      "cell_type": "code",
      "source": [
        "n_R2=lr.score(new_x_train,new_y_train)\n",
        "n_R2"
      ],
      "metadata": {
        "colab": {
          "base_uri": "https://localhost:8080/"
        },
        "id": "1aY6RzrW8GWK",
        "outputId": "7ee10399-d23e-4481-899a-5914ced060f2"
      },
      "execution_count": null,
      "outputs": [
        {
          "output_type": "execute_result",
          "data": {
            "text/plain": [
              "0.5127553711094489"
            ]
          },
          "metadata": {},
          "execution_count": 96
        }
      ]
    },
    {
      "cell_type": "code",
      "source": [
        "ad_R2=1-(((1-n_R2)*(1313-1))/(1313-8-1))\n",
        "ad_R2"
      ],
      "metadata": {
        "colab": {
          "base_uri": "https://localhost:8080/"
        },
        "id": "p-vDOIbw8Ggt",
        "outputId": "318009bf-fcd6-4bab-d81d-c43dd54d18d4"
      },
      "execution_count": null,
      "outputs": [
        {
          "output_type": "execute_result",
          "data": {
            "text/plain": [
              "0.5097661402573597"
            ]
          },
          "metadata": {},
          "execution_count": 97
        }
      ]
    },
    {
      "cell_type": "code",
      "source": [
        "new_mae=metrics.mean_absolute_error(new_y_test,n_p)\n",
        "new_mae"
      ],
      "metadata": {
        "colab": {
          "base_uri": "https://localhost:8080/"
        },
        "id": "M4W0hG_o8Gnp",
        "outputId": "d4a40a21-b6aa-4125-9bac-90bee28e610f"
      },
      "execution_count": null,
      "outputs": [
        {
          "output_type": "execute_result",
          "data": {
            "text/plain": [
              "37095.35023057701"
            ]
          },
          "metadata": {},
          "execution_count": 98
        }
      ]
    },
    {
      "cell_type": "code",
      "source": [
        "new_mse=metrics.mean_squared_error(new_y_test,n_p)\n",
        "new_mse"
      ],
      "metadata": {
        "colab": {
          "base_uri": "https://localhost:8080/"
        },
        "id": "1XWxT9958Gvr",
        "outputId": "7368db19-ef7f-4721-a110-fdbbc76a4453"
      },
      "execution_count": null,
      "outputs": [
        {
          "output_type": "execute_result",
          "data": {
            "text/plain": [
              "2752439145.091623"
            ]
          },
          "metadata": {},
          "execution_count": 99
        }
      ]
    },
    {
      "cell_type": "code",
      "source": [
        "new_rmse=np.sqrt(new_mse)\n",
        "new_rmse"
      ],
      "metadata": {
        "colab": {
          "base_uri": "https://localhost:8080/"
        },
        "id": "O-qRXepx8Gy-",
        "outputId": "901d4357-cd22-41d1-896b-07530a41191e"
      },
      "execution_count": null,
      "outputs": [
        {
          "output_type": "execute_result",
          "data": {
            "text/plain": [
              "52463.69358986863"
            ]
          },
          "metadata": {},
          "execution_count": 100
        }
      ]
    },
    {
      "cell_type": "code",
      "source": [
        "#redge Model\n",
        "from sklearn.linear_model import Ridge\n",
        "rd=Ridge()"
      ],
      "metadata": {
        "id": "7KW7imPo8G4Z"
      },
      "execution_count": null,
      "outputs": []
    },
    {
      "cell_type": "code",
      "source": [
        "rd.fit(pr_x_train,pr_y_train)"
      ],
      "metadata": {
        "colab": {
          "base_uri": "https://localhost:8080/"
        },
        "id": "io6lPOiv8G7u",
        "outputId": "da8febc8-5e3a-49fc-aeaa-4e37463d0a0f"
      },
      "execution_count": null,
      "outputs": [
        {
          "output_type": "execute_result",
          "data": {
            "text/plain": [
              "Ridge()"
            ]
          },
          "metadata": {},
          "execution_count": 102
        }
      ]
    },
    {
      "cell_type": "code",
      "source": [
        "rd.coef_"
      ],
      "metadata": {
        "colab": {
          "base_uri": "https://localhost:8080/"
        },
        "id": "tbF-j6wm8HEM",
        "outputId": "46007662-321d-4572-f32a-437ee3dc51ea"
      },
      "execution_count": null,
      "outputs": [
        {
          "output_type": "execute_result",
          "data": {
            "text/plain": [
              "array([-8.65111576e+02,  5.09239725e+01,  2.30123707e-01,  2.36925712e+04,\n",
              "       -1.34936719e+03,  4.16538315e+03, -1.94805943e+04,  6.23304535e+01,\n",
              "        7.97272554e+03,  4.36346731e+02, -9.73301548e+02, -8.24939518e+03,\n",
              "       -4.65501929e+03, -2.18919889e+03,  1.16564931e+04,  5.46769169e+03,\n",
              "        2.47818430e+02,  6.64194132e+01,  2.40391934e+03,  2.86626675e+04,\n",
              "       -3.63083121e+02, -2.05037513e+02,  2.98017408e+03,  4.74649249e+01,\n",
              "       -6.97004841e+03,  4.67070060e+02,  5.07528655e+02, -9.40953808e+03,\n",
              "        2.44975682e+03, -3.56537667e+03, -1.00083215e+03,  6.24800226e+00,\n",
              "        1.53719180e+03,  1.30111271e+01, -3.76061317e+00,  1.54985351e+01,\n",
              "       -2.52141054e+03, -8.32815416e+02,  1.23065215e+03, -4.25227050e+02,\n",
              "        1.61779466e+01,  2.37636293e+01, -1.87823873e+01,  2.11591943e+01,\n",
              "        4.55797877e+03, -8.24906225e+02,  3.94462752e+03, -1.51365574e+03,\n",
              "       -4.73377939e+03, -1.48532198e+04, -7.52784741e+03,  3.73722728e+03,\n",
              "        2.06248557e+03,  8.35155827e+03, -1.82418261e+03,  3.43745999e+02,\n",
              "       -7.33532980e+01, -1.66699773e+03,  1.18033834e+04,  1.52192837e+00,\n",
              "        5.69901133e+02, -1.97066159e+03,  2.20244930e+03, -2.48661501e+00,\n",
              "        1.07198416e+01,  2.07305790e+01,  2.48966177e+01,  2.68425284e+01,\n",
              "       -9.98029177e+00, -4.12505796e-01, -2.42448285e+02, -1.02841692e+03,\n",
              "       -6.82530843e+02,  2.45753775e+03])"
            ]
          },
          "metadata": {},
          "execution_count": 103
        }
      ]
    },
    {
      "cell_type": "code",
      "source": [
        "rd_df=pd.DataFrame({\"coeff\":list(rd.coef_),\"column\":list(pr_x)})"
      ],
      "metadata": {
        "id": "7hpwktsn8HHN"
      },
      "execution_count": null,
      "outputs": []
    },
    {
      "cell_type": "code",
      "source": [
        "rd_r2=rd.score(pr_x_train,pr_y_train)\n",
        "rd_r2"
      ],
      "metadata": {
        "colab": {
          "base_uri": "https://localhost:8080/"
        },
        "id": "-LrzbPCF9A9O",
        "outputId": "3da9ef2e-ba2e-4c26-b57b-fcbbe113d847"
      },
      "execution_count": null,
      "outputs": [
        {
          "output_type": "execute_result",
          "data": {
            "text/plain": [
              "0.8532460424103067"
            ]
          },
          "metadata": {},
          "execution_count": 105
        }
      ]
    },
    {
      "cell_type": "code",
      "source": [
        "ad_r2=1-(((1-rd_r2)*(1313-1))/(1313-74-1))\n",
        "ad_r2"
      ],
      "metadata": {
        "colab": {
          "base_uri": "https://localhost:8080/"
        },
        "id": "T56jVdpE9BGi",
        "outputId": "15aa7812-6ea6-4303-b87a-9fc1b6e0cc80"
      },
      "execution_count": null,
      "outputs": [
        {
          "output_type": "execute_result",
          "data": {
            "text/plain": [
              "0.8444739964800665"
            ]
          },
          "metadata": {},
          "execution_count": 106
        }
      ]
    },
    {
      "cell_type": "code",
      "source": [
        "l1=[\"linear\",\"lasso\",\"ridge\"]\n",
        "l2=[R2,lo_r2,rd_r2]\n",
        "l3=[adj_R2,lo_adj_R2,ad_r2]"
      ],
      "metadata": {
        "id": "FYWpKxOc9BI6"
      },
      "execution_count": null,
      "outputs": []
    },
    {
      "cell_type": "code",
      "source": [
        "final_df=pd.DataFrame({\"model_name\":l1,\"R-square\":l2,\"Adj_R2\":l3})\n",
        "final_df"
      ],
      "metadata": {
        "colab": {
          "base_uri": "https://localhost:8080/",
          "height": 183
        },
        "id": "1WV2SE-Y9BOi",
        "outputId": "d8f8e422-abce-4008-fc25-5e28c5735b3d"
      },
      "execution_count": null,
      "outputs": [
        {
          "output_type": "error",
          "ename": "NameError",
          "evalue": "ignored",
          "traceback": [
            "\u001b[0;31m---------------------------------------------------------------------------\u001b[0m",
            "\u001b[0;31mNameError\u001b[0m                                 Traceback (most recent call last)",
            "\u001b[0;32m<ipython-input-3-96c56532cfba>\u001b[0m in \u001b[0;36m<module>\u001b[0;34m\u001b[0m\n\u001b[0;32m----> 1\u001b[0;31m \u001b[0mfinal_df\u001b[0m\u001b[0;34m=\u001b[0m\u001b[0mpd\u001b[0m\u001b[0;34m.\u001b[0m\u001b[0mDataFrame\u001b[0m\u001b[0;34m(\u001b[0m\u001b[0;34m{\u001b[0m\u001b[0;34m\"model_name\"\u001b[0m\u001b[0;34m:\u001b[0m\u001b[0ml1\u001b[0m\u001b[0;34m,\u001b[0m\u001b[0;34m\"R-square\"\u001b[0m\u001b[0;34m:\u001b[0m\u001b[0ml2\u001b[0m\u001b[0;34m,\u001b[0m\u001b[0;34m\"Adj_R2\"\u001b[0m\u001b[0;34m:\u001b[0m\u001b[0ml3\u001b[0m\u001b[0;34m}\u001b[0m\u001b[0;34m)\u001b[0m\u001b[0;34m\u001b[0m\u001b[0;34m\u001b[0m\u001b[0m\n\u001b[0m\u001b[1;32m      2\u001b[0m \u001b[0mfinal_df\u001b[0m\u001b[0;34m\u001b[0m\u001b[0;34m\u001b[0m\u001b[0m\n",
            "\u001b[0;31mNameError\u001b[0m: name 'pd' is not defined"
          ]
        }
      ]
    },
    {
      "cell_type": "code",
      "source": [
        ""
      ],
      "metadata": {
        "id": "INWl5_EX9BSS"
      },
      "execution_count": null,
      "outputs": []
    },
    {
      "cell_type": "code",
      "source": [
        ""
      ],
      "metadata": {
        "id": "IJESfMXf9BZj"
      },
      "execution_count": null,
      "outputs": []
    },
    {
      "cell_type": "code",
      "source": [
        ""
      ],
      "metadata": {
        "id": "hDTyvCOn9Bno"
      },
      "execution_count": null,
      "outputs": []
    },
    {
      "cell_type": "code",
      "source": [
        ""
      ],
      "metadata": {
        "id": "pFolPMBh8H7Z"
      },
      "execution_count": null,
      "outputs": []
    },
    {
      "cell_type": "code",
      "source": [
        ""
      ],
      "metadata": {
        "id": "UETqZKwg8ICt"
      },
      "execution_count": null,
      "outputs": []
    },
    {
      "cell_type": "code",
      "source": [
        "#Standardring the  Data\n",
        "\n",
        "from sklearn.preprocessing import StandardScaler\n",
        "scaler = StandardScaler()"
      ],
      "metadata": {
        "id": "n3cwVTO2jEW8"
      },
      "execution_count": null,
      "outputs": []
    },
    {
      "cell_type": "code",
      "source": [
        "x_train=scaler.fit_transform(x_train)"
      ],
      "metadata": {
        "id": "0T-kfLgn_m-g"
      },
      "execution_count": null,
      "outputs": []
    },
    {
      "cell_type": "code",
      "source": [
        "x_test=scaler.fit_transform(x_test)"
      ],
      "metadata": {
        "id": "2dqVqsu5_72g"
      },
      "execution_count": null,
      "outputs": []
    },
    {
      "cell_type": "code",
      "source": [
        "x_train"
      ],
      "metadata": {
        "id": "_7OfI3uSASGf"
      },
      "execution_count": null,
      "outputs": []
    },
    {
      "cell_type": "code",
      "source": [
        "from sklearn.linear_model import LinearRegression\n",
        "#crossvalidation\n",
        "from sklearn.model_selection import cross_val_score\n",
        " "
      ],
      "metadata": {
        "id": "092LG0SjAZsm"
      },
      "execution_count": null,
      "outputs": []
    },
    {
      "cell_type": "code",
      "source": [
        "\n",
        "regression=LinearRegression(x_train)"
      ],
      "metadata": {
        "id": "u_XByRzSAv2c"
      },
      "execution_count": null,
      "outputs": []
    },
    {
      "cell_type": "code",
      "source": [
        "ms=cross_val_score(regression,x_train,y_train,scoring='neg_mean_squared_error',cv=5)"
      ],
      "metadata": {
        "id": "_WQo7hp5BFF1"
      },
      "execution_count": null,
      "outputs": []
    },
    {
      "cell_type": "code",
      "source": [
        "ms\n"
      ],
      "metadata": {
        "id": "lo9m2dfECO3F"
      },
      "execution_count": null,
      "outputs": []
    },
    {
      "cell_type": "code",
      "source": [
        "np.mean(mse)"
      ],
      "metadata": {
        "id": "f62wcnXfCTtg"
      },
      "execution_count": null,
      "outputs": []
    },
    {
      "cell_type": "code",
      "source": [
        ""
      ],
      "metadata": {
        "id": "BvaUPY53EpjU"
      },
      "execution_count": null,
      "outputs": []
    }
  ]
}